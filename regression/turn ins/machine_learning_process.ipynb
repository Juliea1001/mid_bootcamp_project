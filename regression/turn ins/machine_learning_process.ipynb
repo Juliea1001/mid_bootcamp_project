{
 "cells": [
  {
   "cell_type": "code",
   "execution_count": 1,
   "id": "ee0469dc",
   "metadata": {},
   "outputs": [],
   "source": [
    "import pandas as pd\n",
    "import numpy as np\n",
    "import matplotlib.pyplot as plt\n",
    "import seaborn as sns\n",
    "import scipy.stats as stats\n",
    "import os\n",
    "\n",
    "from sklearn.model_selection import train_test_split\n",
    "from sklearn.linear_model import LinearRegression\n",
    "from sklearn.metrics import r2_score, mean_squared_error, mean_absolute_error\n",
    "\n",
    "import warnings\n",
    "warnings.filterwarnings('ignore')"
   ]
  },
  {
   "cell_type": "code",
   "execution_count": 2,
   "id": "91ad9d72",
   "metadata": {},
   "outputs": [],
   "source": [
    "def read(file_path):\n",
    "    data = pd.read_csv(file_path)\n",
    "    return(data) "
   ]
  },
  {
   "cell_type": "code",
   "execution_count": 3,
   "id": "4848514a",
   "metadata": {},
   "outputs": [],
   "source": [
    "data= read('../files_for_project/regression_data.csv')"
   ]
  },
  {
   "cell_type": "code",
   "execution_count": null,
   "id": "acf333ac",
   "metadata": {},
   "outputs": [],
   "source": []
  },
  {
   "cell_type": "code",
   "execution_count": 4,
   "id": "592b4773",
   "metadata": {},
   "outputs": [
    {
     "data": {
      "text/plain": [
       "795000620     3\n",
       "1568100300    2\n",
       "2892700041    2\n",
       "1450100390    2\n",
       "3395040550    2\n",
       "             ..\n",
       "2595650170    1\n",
       "7212651100    1\n",
       "9808700025    1\n",
       "6772200055    1\n",
       "2424410110    1\n",
       "Name: id, Length: 21420, dtype: int64"
      ]
     },
     "execution_count": 4,
     "metadata": {},
     "output_type": "execute_result"
    }
   ],
   "source": [
    "#checking if there are no unique id's\n",
    "data['id'].value_counts()\n",
    "#yes there are id's,which are more often than one time"
   ]
  },
  {
   "cell_type": "code",
   "execution_count": 5,
   "id": "d8a58153",
   "metadata": {},
   "outputs": [
    {
     "data": {
      "text/html": [
       "<div>\n",
       "<style scoped>\n",
       "    .dataframe tbody tr th:only-of-type {\n",
       "        vertical-align: middle;\n",
       "    }\n",
       "\n",
       "    .dataframe tbody tr th {\n",
       "        vertical-align: top;\n",
       "    }\n",
       "\n",
       "    .dataframe thead th {\n",
       "        text-align: right;\n",
       "    }\n",
       "</style>\n",
       "<table border=\"1\" class=\"dataframe\">\n",
       "  <thead>\n",
       "    <tr style=\"text-align: right;\">\n",
       "      <th></th>\n",
       "      <th>id</th>\n",
       "      <th>date</th>\n",
       "      <th>bedrooms</th>\n",
       "      <th>bathrooms</th>\n",
       "      <th>sqft_living</th>\n",
       "      <th>sqft_lot</th>\n",
       "      <th>floors</th>\n",
       "      <th>waterfront</th>\n",
       "      <th>view</th>\n",
       "      <th>condition</th>\n",
       "      <th>...</th>\n",
       "      <th>sqft_above</th>\n",
       "      <th>sqft_basement</th>\n",
       "      <th>yr_built</th>\n",
       "      <th>yr_renovated</th>\n",
       "      <th>zipcode</th>\n",
       "      <th>lat</th>\n",
       "      <th>long</th>\n",
       "      <th>sqft_living15</th>\n",
       "      <th>sqft_lot15</th>\n",
       "      <th>price</th>\n",
       "    </tr>\n",
       "  </thead>\n",
       "  <tbody>\n",
       "    <tr>\n",
       "      <th>17588</th>\n",
       "      <td>795000620</td>\n",
       "      <td>9/24/2014</td>\n",
       "      <td>3</td>\n",
       "      <td>1</td>\n",
       "      <td>1080</td>\n",
       "      <td>6250</td>\n",
       "      <td>1</td>\n",
       "      <td>0</td>\n",
       "      <td>0</td>\n",
       "      <td>2</td>\n",
       "      <td>...</td>\n",
       "      <td>1080</td>\n",
       "      <td>0</td>\n",
       "      <td>1950</td>\n",
       "      <td>0</td>\n",
       "      <td>98168</td>\n",
       "      <td>47,5045</td>\n",
       "      <td>-122,33</td>\n",
       "      <td>1070</td>\n",
       "      <td>6250</td>\n",
       "      <td>115000</td>\n",
       "    </tr>\n",
       "    <tr>\n",
       "      <th>17589</th>\n",
       "      <td>795000620</td>\n",
       "      <td>12/15/2014</td>\n",
       "      <td>3</td>\n",
       "      <td>1</td>\n",
       "      <td>1080</td>\n",
       "      <td>6250</td>\n",
       "      <td>1</td>\n",
       "      <td>0</td>\n",
       "      <td>0</td>\n",
       "      <td>2</td>\n",
       "      <td>...</td>\n",
       "      <td>1080</td>\n",
       "      <td>0</td>\n",
       "      <td>1950</td>\n",
       "      <td>0</td>\n",
       "      <td>98168</td>\n",
       "      <td>47,5045</td>\n",
       "      <td>-122,33</td>\n",
       "      <td>1070</td>\n",
       "      <td>6250</td>\n",
       "      <td>124000</td>\n",
       "    </tr>\n",
       "    <tr>\n",
       "      <th>17590</th>\n",
       "      <td>795000620</td>\n",
       "      <td>3/11/2015</td>\n",
       "      <td>3</td>\n",
       "      <td>1</td>\n",
       "      <td>1080</td>\n",
       "      <td>6250</td>\n",
       "      <td>1</td>\n",
       "      <td>0</td>\n",
       "      <td>0</td>\n",
       "      <td>2</td>\n",
       "      <td>...</td>\n",
       "      <td>1080</td>\n",
       "      <td>0</td>\n",
       "      <td>1950</td>\n",
       "      <td>0</td>\n",
       "      <td>98168</td>\n",
       "      <td>47,5045</td>\n",
       "      <td>-122,33</td>\n",
       "      <td>1070</td>\n",
       "      <td>6250</td>\n",
       "      <td>157000</td>\n",
       "    </tr>\n",
       "  </tbody>\n",
       "</table>\n",
       "<p>3 rows × 21 columns</p>\n",
       "</div>"
      ],
      "text/plain": [
       "              id        date  bedrooms bathrooms  sqft_living  sqft_lot  \\\n",
       "17588  795000620   9/24/2014         3         1         1080      6250   \n",
       "17589  795000620  12/15/2014         3         1         1080      6250   \n",
       "17590  795000620   3/11/2015         3         1         1080      6250   \n",
       "\n",
       "      floors  waterfront  view  condition  ...  sqft_above  sqft_basement  \\\n",
       "17588      1           0     0          2  ...        1080              0   \n",
       "17589      1           0     0          2  ...        1080              0   \n",
       "17590      1           0     0          2  ...        1080              0   \n",
       "\n",
       "       yr_built  yr_renovated  zipcode      lat     long sqft_living15  \\\n",
       "17588      1950             0    98168  47,5045  -122,33          1070   \n",
       "17589      1950             0    98168  47,5045  -122,33          1070   \n",
       "17590      1950             0    98168  47,5045  -122,33          1070   \n",
       "\n",
       "       sqft_lot15   price  \n",
       "17588        6250  115000  \n",
       "17589        6250  124000  \n",
       "17590        6250  157000  \n",
       "\n",
       "[3 rows x 21 columns]"
      ]
     },
     "execution_count": 5,
     "metadata": {},
     "output_type": "execute_result"
    }
   ],
   "source": [
    "data[data['id']==795000620]\n",
    "#they seemto be for the same house, which is sold more than once"
   ]
  },
  {
   "cell_type": "code",
   "execution_count": 6,
   "id": "f2d26e9a",
   "metadata": {},
   "outputs": [
    {
     "data": {
      "text/plain": [
       "<bound method DataFrame.info of                id        date  bedrooms bathrooms  sqft_living  sqft_lot  \\\n",
       "0      7129300520  10/13/2014         3         1         1180      5650   \n",
       "1      6414100192   12/9/2014         3      2,25         2570      7242   \n",
       "2      5631500400   2/25/2015         2         1          770     10000   \n",
       "3      2487200875   12/9/2014         4         3         1960      5000   \n",
       "4      1954400510   2/18/2015         3         2         1680      8080   \n",
       "...           ...         ...       ...       ...          ...       ...   \n",
       "21592   263000018   5/21/2014         3       2,5         1530      1131   \n",
       "21593  6600060120   2/23/2015         4       2,5         2310      5813   \n",
       "21594  1523300141   6/23/2014         2      0,75         1020      1350   \n",
       "21595   291310100   1/16/2015         3       2,5         1600      2388   \n",
       "21596  1523300157  10/15/2014         2      0,75         1020      1076   \n",
       "\n",
       "      floors  waterfront  view  condition  ...  sqft_above  sqft_basement  \\\n",
       "0          1           0     0          3  ...        1180              0   \n",
       "1          2           0     0          3  ...        2170            400   \n",
       "2          1           0     0          3  ...         770              0   \n",
       "3          1           0     0          5  ...        1050            910   \n",
       "4          1           0     0          3  ...        1680              0   \n",
       "...      ...         ...   ...        ...  ...         ...            ...   \n",
       "21592      3           0     0          3  ...        1530              0   \n",
       "21593      2           0     0          3  ...        2310              0   \n",
       "21594      2           0     0          3  ...        1020              0   \n",
       "21595      2           0     0          3  ...        1600              0   \n",
       "21596      2           0     0          3  ...        1020              0   \n",
       "\n",
       "       yr_built  yr_renovated  zipcode      lat      long sqft_living15  \\\n",
       "0          1955             0    98178  47,5112  -122,257          1340   \n",
       "1          1951          1991    98125   47,721  -122,319          1690   \n",
       "2          1933             0    98028  47,7379  -122,233          2720   \n",
       "3          1965             0    98136  47,5208  -122,393          1360   \n",
       "4          1987             0    98074  47,6168  -122,045          1800   \n",
       "...         ...           ...      ...      ...       ...           ...   \n",
       "21592      2009             0    98103  47,6993  -122,346          1530   \n",
       "21593      2014             0    98146  47,5107  -122,362          1830   \n",
       "21594      2009             0    98144  47,5944  -122,299          1020   \n",
       "21595      2004             0    98027  47,5345  -122,069          1410   \n",
       "21596      2008             0    98144  47,5941  -122,299          1020   \n",
       "\n",
       "       sqft_lot15   price  \n",
       "0            5650  221900  \n",
       "1            7639  538000  \n",
       "2            8062  180000  \n",
       "3            5000  604000  \n",
       "4            7503  510000  \n",
       "...           ...     ...  \n",
       "21592        1509  360000  \n",
       "21593        7200  400000  \n",
       "21594        2007  402101  \n",
       "21595        1287  400000  \n",
       "21596        1357  325000  \n",
       "\n",
       "[21597 rows x 21 columns]>"
      ]
     },
     "execution_count": 6,
     "metadata": {},
     "output_type": "execute_result"
    }
   ],
   "source": [
    "data.info"
   ]
  },
  {
   "cell_type": "code",
   "execution_count": 7,
   "id": "d01239e5",
   "metadata": {},
   "outputs": [
    {
     "data": {
      "text/plain": [
       "Index(['id', 'date', 'bedrooms', 'bathrooms', 'sqft_living', 'sqft_lot',\n",
       "       'floors', 'waterfront', 'view', 'condition', 'grade', 'sqft_above',\n",
       "       'sqft_basement', 'yr_built', 'yr_renovated', 'zipcode', 'lat', 'long',\n",
       "       'sqft_living15', 'sqft_lot15', 'price'],\n",
       "      dtype='object')"
      ]
     },
     "execution_count": 7,
     "metadata": {},
     "output_type": "execute_result"
    }
   ],
   "source": [
    "data.columns"
   ]
  },
  {
   "cell_type": "code",
   "execution_count": 8,
   "id": "c3739bbb",
   "metadata": {},
   "outputs": [
    {
     "data": {
      "text/plain": [
       "id               0\n",
       "date             0\n",
       "bedrooms         0\n",
       "bathrooms        0\n",
       "sqft_living      0\n",
       "sqft_lot         0\n",
       "floors           0\n",
       "waterfront       0\n",
       "view             0\n",
       "condition        0\n",
       "grade            0\n",
       "sqft_above       0\n",
       "sqft_basement    0\n",
       "yr_built         0\n",
       "yr_renovated     0\n",
       "zipcode          0\n",
       "lat              0\n",
       "long             0\n",
       "sqft_living15    0\n",
       "sqft_lot15       0\n",
       "price            0\n",
       "dtype: int64"
      ]
     },
     "execution_count": 8,
     "metadata": {},
     "output_type": "execute_result"
    }
   ],
   "source": [
    "data.isna().sum() #no nulls in the data"
   ]
  },
  {
   "cell_type": "code",
   "execution_count": 9,
   "id": "a44e410e",
   "metadata": {},
   "outputs": [
    {
     "data": {
      "text/plain": [
       "id                int64\n",
       "date             object\n",
       "bedrooms          int64\n",
       "bathrooms        object\n",
       "sqft_living       int64\n",
       "sqft_lot          int64\n",
       "floors           object\n",
       "waterfront        int64\n",
       "view              int64\n",
       "condition         int64\n",
       "grade             int64\n",
       "sqft_above        int64\n",
       "sqft_basement     int64\n",
       "yr_built          int64\n",
       "yr_renovated      int64\n",
       "zipcode           int64\n",
       "lat              object\n",
       "long             object\n",
       "sqft_living15     int64\n",
       "sqft_lot15        int64\n",
       "price             int64\n",
       "dtype: object"
      ]
     },
     "execution_count": 9,
     "metadata": {},
     "output_type": "execute_result"
    }
   ],
   "source": [
    "data.dtypes"
   ]
  },
  {
   "cell_type": "code",
   "execution_count": 10,
   "id": "ff26b0ae",
   "metadata": {},
   "outputs": [
    {
     "data": {
      "image/png": "[encoded data removed]",
      "text/plain": [
       "<Figure size 432x288 with 1 Axes>"
      ]
     },
     "metadata": {
      "needs_background": "light"
     },
     "output_type": "display_data"
    },
    {
     "data": {
      "image/png": "[encoded data removed]",
      "text/plain": [
       "<Figure size 432x288 with 1 Axes>"
      ]
     },
     "metadata": {
      "needs_background": "light"
     },
     "output_type": "display_data"
    },
    {
     "data": {
      "image/png": "[encoded data removed]",
      "text/plain": [
       "<Figure size 432x288 with 1 Axes>"
      ]
     },
     "metadata": {
      "needs_background": "light"
     },
     "output_type": "display_data"
    },
    {
     "data": {
      "image/png": "[encoded data removed]",
      "text/plain": [
       "<Figure size 432x288 with 1 Axes>"
      ]
     },
     "metadata": {
      "needs_background": "light"
     },
     "output_type": "display_data"
    },
    {
     "data": {
      "image/png": "[encoded data removed]",
      "text/plain": [
       "<Figure size 432x288 with 1 Axes>"
      ]
     },
     "metadata": {
      "needs_background": "light"
     },
     "output_type": "display_data"
    },
    {
     "data": {
      "image/png": "[encoded data removed]",
      "text/plain": [
       "<Figure size 432x288 with 1 Axes>"
      ]
     },
     "metadata": {
      "needs_background": "light"
     },
     "output_type": "display_data"
    },
    {
     "data": {
      "image/png": "[encoded data removed]",
      "text/plain": [
       "<Figure size 432x288 with 1 Axes>"
      ]
     },
     "metadata": {
      "needs_background": "light"
     },
     "output_type": "display_data"
    },
    {
     "data": {
      "image/png": "[encoded data removed]",
      "text/plain": [
       "<Figure size 432x288 with 1 Axes>"
      ]
     },
     "metadata": {
      "needs_background": "light"
     },
     "output_type": "display_data"
    },
    {
     "data": {
      "image/png": "[encoded data removed]",
      "text/plain": [
       "<Figure size 432x288 with 1 Axes>"
      ]
     },
     "metadata": {
      "needs_background": "light"
     },
     "output_type": "display_data"
    },
    {
     "data": {
      "image/png": "[encoded data removed]",
      "text/plain": [
       "<Figure size 432x288 with 1 Axes>"
      ]
     },
     "metadata": {
      "needs_background": "light"
     },
     "output_type": "display_data"
    },
    {
     "data": {
      "image/png": "[encoded data removed]",
      "text/plain": [
       "<Figure size 432x288 with 1 Axes>"
      ]
     },
     "metadata": {
      "needs_background": "light"
     },
     "output_type": "display_data"
    },
    {
     "data": {
      "image/png": "[encoded data removed]",
      "text/plain": [
       "<Figure size 432x288 with 1 Axes>"
      ]
     },
     "metadata": {
      "needs_background": "light"
     },
     "output_type": "display_data"
    },
    {
     "data": {
      "image/png": "[encoded data removed]",
      "text/plain": [
       "<Figure size 432x288 with 1 Axes>"
      ]
     },
     "metadata": {
      "needs_background": "light"
     },
     "output_type": "display_data"
    },
    {
     "data": {
      "image/png": "[encoded data removed]",
      "text/plain": [
       "<Figure size 432x288 with 1 Axes>"
      ]
     },
     "metadata": {
      "needs_background": "light"
     },
     "output_type": "display_data"
    },
    {
     "data": {
      "image/png": "[encoded data removed]",
      "text/plain": [
       "<Figure size 432x288 with 1 Axes>"
      ]
     },
     "metadata": {
      "needs_background": "light"
     },
     "output_type": "display_data"
    },
    {
     "data": {
      "image/png": "[encoded data removed]",
      "text/plain": [
       "<Figure size 432x288 with 1 Axes>"
      ]
     },
     "metadata": {
      "needs_background": "light"
     },
     "output_type": "display_data"
    }
   ],
   "source": [
    "for column in data.select_dtypes(np.number).columns:\n",
    "    sns.distplot(data[column])\n",
    "    plt.show()"
   ]
  },
  {
   "cell_type": "code",
   "execution_count": 11,
   "id": "33e84e9e",
   "metadata": {},
   "outputs": [
    {
     "data": {
      "text/html": [
       "<div>\n",
       "<style scoped>\n",
       "    .dataframe tbody tr th:only-of-type {\n",
       "        vertical-align: middle;\n",
       "    }\n",
       "\n",
       "    .dataframe tbody tr th {\n",
       "        vertical-align: top;\n",
       "    }\n",
       "\n",
       "    .dataframe thead th {\n",
       "        text-align: right;\n",
       "    }\n",
       "</style>\n",
       "<table border=\"1\" class=\"dataframe\">\n",
       "  <thead>\n",
       "    <tr style=\"text-align: right;\">\n",
       "      <th></th>\n",
       "      <th>date</th>\n",
       "      <th>bathrooms</th>\n",
       "      <th>floors</th>\n",
       "      <th>lat</th>\n",
       "      <th>long</th>\n",
       "    </tr>\n",
       "  </thead>\n",
       "  <tbody>\n",
       "    <tr>\n",
       "      <th>0</th>\n",
       "      <td>10/13/2014</td>\n",
       "      <td>1</td>\n",
       "      <td>1</td>\n",
       "      <td>47,5112</td>\n",
       "      <td>-122,257</td>\n",
       "    </tr>\n",
       "    <tr>\n",
       "      <th>1</th>\n",
       "      <td>12/9/2014</td>\n",
       "      <td>2,25</td>\n",
       "      <td>2</td>\n",
       "      <td>47,721</td>\n",
       "      <td>-122,319</td>\n",
       "    </tr>\n",
       "    <tr>\n",
       "      <th>2</th>\n",
       "      <td>2/25/2015</td>\n",
       "      <td>1</td>\n",
       "      <td>1</td>\n",
       "      <td>47,7379</td>\n",
       "      <td>-122,233</td>\n",
       "    </tr>\n",
       "    <tr>\n",
       "      <th>3</th>\n",
       "      <td>12/9/2014</td>\n",
       "      <td>3</td>\n",
       "      <td>1</td>\n",
       "      <td>47,5208</td>\n",
       "      <td>-122,393</td>\n",
       "    </tr>\n",
       "    <tr>\n",
       "      <th>4</th>\n",
       "      <td>2/18/2015</td>\n",
       "      <td>2</td>\n",
       "      <td>1</td>\n",
       "      <td>47,6168</td>\n",
       "      <td>-122,045</td>\n",
       "    </tr>\n",
       "  </tbody>\n",
       "</table>\n",
       "</div>"
      ],
      "text/plain": [
       "         date bathrooms floors      lat      long\n",
       "0  10/13/2014         1      1  47,5112  -122,257\n",
       "1   12/9/2014      2,25      2   47,721  -122,319\n",
       "2   2/25/2015         1      1  47,7379  -122,233\n",
       "3   12/9/2014         3      1  47,5208  -122,393\n",
       "4   2/18/2015         2      1  47,6168  -122,045"
      ]
     },
     "execution_count": 11,
     "metadata": {},
     "output_type": "execute_result"
    }
   ],
   "source": [
    "categoricals = data.select_dtypes(np.object)\n",
    "categoricals.head()"
   ]
  },
  {
   "cell_type": "code",
   "execution_count": 12,
   "id": "dfd18a52",
   "metadata": {},
   "outputs": [],
   "source": [
    "data.set_index('id', inplace=True)"
   ]
  },
  {
   "cell_type": "code",
   "execution_count": 13,
   "id": "36b64409",
   "metadata": {},
   "outputs": [
    {
     "data": {
      "text/plain": [
       "795000620     3\n",
       "1568100300    2\n",
       "2892700041    2\n",
       "1450100390    2\n",
       "3395040550    2\n",
       "             ..\n",
       "2595650170    1\n",
       "7212651100    1\n",
       "9808700025    1\n",
       "6772200055    1\n",
       "2424410110    1\n",
       "Name: id, Length: 21420, dtype: int64"
      ]
     },
     "execution_count": 13,
     "metadata": {},
     "output_type": "execute_result"
    }
   ],
   "source": [
    "pd.set_option(\"display.max_rows\", 50)\n",
    "pd.get_option(\"display.max_columns\")\n",
    "data.index.value_counts()"
   ]
  },
  {
   "cell_type": "code",
   "execution_count": 14,
   "id": "b36d0ac2",
   "metadata": {},
   "outputs": [],
   "source": [
    "#data.reset_index(level=0, inplace=True)\n"
   ]
  },
  {
   "cell_type": "code",
   "execution_count": 15,
   "id": "b62ed474",
   "metadata": {},
   "outputs": [
    {
     "data": {
      "image/png": "[encoded data removed]",
      "text/plain": [
       "<Figure size 720x576 with 1 Axes>"
      ]
     },
     "metadata": {
      "needs_background": "light"
     },
     "output_type": "display_data"
    },
    {
     "data": {
      "image/png": "[encoded data removed]",
      "text/plain": [
       "<Figure size 720x576 with 1 Axes>"
      ]
     },
     "metadata": {
      "needs_background": "light"
     },
     "output_type": "display_data"
    },
    {
     "data": {
      "image/png": "[encoded data removed]",
      "text/plain": [
       "<Figure size 720x576 with 1 Axes>"
      ]
     },
     "metadata": {
      "needs_background": "light"
     },
     "output_type": "display_data"
    },
    {
     "data": {
      "image/png": "[encoded data removed]",
      "text/plain": [
       "<Figure size 720x576 with 1 Axes>"
      ]
     },
     "metadata": {
      "needs_background": "light"
     },
     "output_type": "display_data"
    },
    {
     "data": {
      "image/png": "[encoded data removed]",
      "text/plain": [
       "<Figure size 720x576 with 1 Axes>"
      ]
     },
     "metadata": {
      "needs_background": "light"
     },
     "output_type": "display_data"
    }
   ],
   "source": [
    "for col in data.select_dtypes(np.object).columns:\n",
    "    plt.figure(figsize=[10,8])\n",
    "    n, bins, patches = plt.hist(data[col],50,  density=False, facecolor='y', alpha=1, stacked=True)\n",
    "    plt.xlabel(col)\n",
    "    plt.ylabel('number of counts')\n",
    "    plt.title(col)\n",
    "    \n",
    "    plt.show()"
   ]
  },
  {
   "cell_type": "code",
   "execution_count": 16,
   "id": "20915464",
   "metadata": {},
   "outputs": [
    {
     "data": {
      "text/plain": [
       "array(['10/13/2014', '12/9/2014', '2/25/2015', '2/18/2015', '5/12/2014',\n",
       "       '6/27/2014', '1/15/2015', '4/15/2015', '3/12/2015', '4/3/2015',\n",
       "       '5/27/2014', '5/28/2014', '10/7/2014', '1/24/2015', '7/31/2014',\n",
       "       '5/29/2014', '12/5/2014', '4/24/2015', '5/14/2014', '8/26/2014',\n",
       "       '7/3/2014', '5/16/2014', '11/20/2014', '11/3/2014', '6/26/2014',\n",
       "       '12/1/2014', '6/24/2014', '3/2/2015', '11/10/2014', '12/3/2014',\n",
       "       '6/13/2014', '12/30/2014', '2/13/2015', '6/20/2014', '7/15/2014',\n",
       "       '8/11/2014', '7/7/2014', '10/28/2014', '7/29/2014', '7/18/2014',\n",
       "       '3/25/2015', '7/16/2014', '4/28/2015', '3/11/2015', '9/16/2014',\n",
       "       '2/17/2015', '12/31/2014', '2/5/2015', '3/3/2015', '8/19/2014',\n",
       "       '4/7/2015', '8/27/2014', '2/23/2015', '12/10/2014', '8/28/2014',\n",
       "       '10/21/2014', '12/7/2014', '6/3/2014', '9/9/2014', '10/9/2014',\n",
       "       '8/25/2014', '6/12/2014', '9/12/2014', '1/5/2015', '6/10/2014',\n",
       "       '7/10/2014', '3/16/2015', '11/5/2014', '4/20/2015', '6/9/2014',\n",
       "       '3/23/2015', '12/2/2014', '12/22/2014', '1/28/2015', '6/2/2014',\n",
       "       '11/14/2014', '6/18/2014', '5/19/2014', '9/4/2014', '5/22/2014',\n",
       "       '2/26/2015', '7/25/2014', '12/23/2014', '9/8/2014', '3/30/2015',\n",
       "       '7/11/2014', '6/11/2014', '10/27/2014', '12/12/2014', '9/24/2014',\n",
       "       '4/2/2015', '5/23/2014', '7/23/2014', '3/5/2015', '3/4/2015',\n",
       "       '11/24/2014', '11/21/2014', '6/23/2014', '1/8/2015', '5/11/2015',\n",
       "       '1/2/2015', '11/19/2014', '4/6/2015', '11/4/2014', '7/17/2014',\n",
       "       '1/26/2015', '8/13/2014', '8/5/2014', '5/7/2014', '7/8/2014',\n",
       "       '5/8/2015', '2/27/2015', '6/25/2014', '8/6/2014', '10/30/2014',\n",
       "       '8/20/2014', '4/9/2015', '3/31/2015', '4/1/2015', '7/28/2014',\n",
       "       '8/7/2014', '11/13/2014', '10/3/2014', '3/9/2015', '8/12/2014',\n",
       "       '12/8/2014', '2/19/2015', '3/24/2015', '6/5/2014', '5/2/2014',\n",
       "       '1/16/2015', '9/29/2014', '2/10/2015', '7/9/2014', '5/30/2014',\n",
       "       '11/17/2014', '1/7/2015', '4/14/2015', '9/5/2014', '5/5/2014',\n",
       "       '4/18/2015', '8/18/2014', '5/15/2014', '11/11/2014', '1/13/2015',\n",
       "       '10/14/2014', '11/12/2014', '8/4/2014', '9/19/2014', '11/23/2014',\n",
       "       '4/22/2015', '1/14/2015', '2/21/2015', '10/23/2014', '8/22/2014',\n",
       "       '9/18/2014', '9/3/2014', '6/4/2014', '4/13/2015', '6/16/2014',\n",
       "       '9/2/2014', '3/20/2015', '7/1/2014', '10/1/2014', '1/27/2015',\n",
       "       '4/27/2015', '2/12/2015', '3/14/2015', '9/23/2014', '5/13/2014',\n",
       "       '4/21/2015', '10/20/2014', '2/11/2015', '8/29/2014', '10/24/2014',\n",
       "       '12/16/2014', '8/14/2014', '5/4/2015', '5/1/2015', '10/17/2014',\n",
       "       '9/25/2014', '5/5/2015', '5/13/2015', '6/30/2014', '4/10/2015',\n",
       "       '2/9/2015', '7/2/2014', '2/24/2015', '10/22/2014', '10/2/2014',\n",
       "       '6/19/2014', '2/28/2015', '4/8/2015', '11/22/2014', '7/21/2014',\n",
       "       '2/2/2015', '4/16/2015', '7/22/2014', '11/6/2014', '12/29/2014',\n",
       "       '9/22/2014', '10/6/2014', '9/17/2014', '1/30/2015', '3/26/2015',\n",
       "       '4/23/2015', '12/4/2014', '5/20/2014', '4/29/2015', '3/13/2015',\n",
       "       '1/21/2015', '8/1/2014', '4/30/2015', '3/6/2015', '4/17/2015',\n",
       "       '9/11/2014', '3/18/2015', '7/30/2014', '12/19/2014', '5/6/2014',\n",
       "       '5/12/2015', '8/21/2014', '3/19/2015', '5/2/2015', '2/22/2015',\n",
       "       '11/26/2014', '10/15/2014', '1/6/2015', '8/8/2014', '9/1/2014',\n",
       "       '6/14/2014', '5/10/2015', '5/21/2014', '5/8/2014', '10/29/2014',\n",
       "       '5/7/2015', '9/6/2014', '10/8/2014', '3/10/2015', '12/17/2014',\n",
       "       '12/18/2014', '1/23/2015', '12/11/2014', '9/30/2014', '2/4/2015',\n",
       "       '2/6/2015', '6/17/2014', '5/6/2015', '6/22/2014', '8/15/2014',\n",
       "       '11/18/2014', '8/2/2014', '10/16/2014', '7/12/2014', '9/10/2014',\n",
       "       '5/9/2014', '12/15/2014', '11/7/2014', '7/14/2014', '6/15/2014',\n",
       "       '9/26/2014', '6/6/2014', '1/22/2015', '3/17/2015', '11/25/2014',\n",
       "       '10/10/2014', '12/26/2014', '1/20/2015', '5/14/2015', '1/12/2015',\n",
       "       '7/24/2014', '4/25/2015', '2/20/2015', '9/15/2014', '5/17/2014',\n",
       "       '4/26/2015', '1/9/2015', '4/19/2015', '5/11/2014', '5/24/2014',\n",
       "       '2/14/2015', '5/3/2015', '6/1/2014', '10/31/2014', '3/27/2015',\n",
       "       '6/21/2014', '10/18/2014', '12/20/2014', '2/3/2015', '1/29/2015',\n",
       "       '7/26/2014', '7/19/2014', '12/21/2014', '6/28/2014', '7/20/2014',\n",
       "       '1/19/2015', '12/24/2014', '5/26/2014', '8/16/2014', '9/27/2014',\n",
       "       '7/6/2014', '12/14/2014', '10/5/2014', '4/12/2015', '11/15/2014',\n",
       "       '11/8/2014', '11/1/2014', '5/25/2014', '8/31/2014', '9/7/2014',\n",
       "       '3/29/2015', '10/19/2014', '6/29/2014', '5/4/2014', '4/4/2015',\n",
       "       '11/16/2014', '2/16/2015', '5/31/2014', '10/4/2014', '5/18/2014',\n",
       "       '11/9/2014', '3/15/2015', '4/5/2015', '5/10/2014', '2/7/2015',\n",
       "       '6/8/2014', '12/13/2014', '8/9/2014', '3/21/2015', '10/12/2014',\n",
       "       '5/15/2015', '8/17/2014', '7/4/2014', '9/13/2014', '3/7/2015',\n",
       "       '4/11/2015', '8/10/2014', '12/6/2014', '5/9/2015', '8/3/2014',\n",
       "       '9/28/2014', '5/3/2014', '7/13/2014', '7/5/2014', '10/25/2014',\n",
       "       '11/28/2014', '3/28/2015', '3/1/2015', '9/20/2014', '11/2/2014',\n",
       "       '1/25/2015', '9/21/2014', '1/10/2015', '8/23/2014', '10/26/2014',\n",
       "       '11/29/2014', '6/7/2014', '5/24/2015', '1/31/2015', '12/27/2014',\n",
       "       '1/17/2015', '9/14/2014', '3/8/2015', '8/30/2014', '5/27/2015',\n",
       "       '3/22/2015', '2/15/2015', '10/11/2014', '2/1/2015', '11/30/2014',\n",
       "       '8/24/2014', '7/27/2014'], dtype=object)"
      ]
     },
     "execution_count": 16,
     "metadata": {},
     "output_type": "execute_result"
    }
   ],
   "source": [
    "data['date'].unique() # 2014-2015 selling date of houses"
   ]
  },
  {
   "cell_type": "code",
   "execution_count": 17,
   "id": "da3c107f",
   "metadata": {},
   "outputs": [
    {
     "data": {
      "image/png": "[encoded data removed]",
      "text/plain": [
       "<Figure size 432x288 with 1 Axes>"
      ]
     },
     "metadata": {
      "needs_background": "light"
     },
     "output_type": "display_data"
    },
    {
     "data": {
      "image/png": "[encoded data removed]",
      "text/plain": [
       "<Figure size 432x288 with 1 Axes>"
      ]
     },
     "metadata": {
      "needs_background": "light"
     },
     "output_type": "display_data"
    },
    {
     "data": {
      "image/png": "[encoded data removed]",
      "text/plain": [
       "<Figure size 432x288 with 1 Axes>"
      ]
     },
     "metadata": {
      "needs_background": "light"
     },
     "output_type": "display_data"
    },
    {
     "data": {
      "image/png": "[encoded data removed]",
      "text/plain": [
       "<Figure size 432x288 with 1 Axes>"
      ]
     },
     "metadata": {
      "needs_background": "light"
     },
     "output_type": "display_data"
    },
    {
     "data": {
      "image/png": "[encoded data removed]",
      "text/plain": [
       "<Figure size 432x288 with 1 Axes>"
      ]
     },
     "metadata": {
      "needs_background": "light"
     },
     "output_type": "display_data"
    },
    {
     "data": {
      "image/png": "[encoded data removed]",
      "text/plain": [
       "<Figure size 432x288 with 1 Axes>"
      ]
     },
     "metadata": {
      "needs_background": "light"
     },
     "output_type": "display_data"
    },
    {
     "data": {
      "image/png": "[encoded data removed]",
      "text/plain": [
       "<Figure size 432x288 with 1 Axes>"
      ]
     },
     "metadata": {
      "needs_background": "light"
     },
     "output_type": "display_data"
    },
    {
     "data": {
      "image/png": "[encoded data removed]",
      "text/plain": [
       "<Figure size 432x288 with 1 Axes>"
      ]
     },
     "metadata": {
      "needs_background": "light"
     },
     "output_type": "display_data"
    },
    {
     "data": {
      "image/png": "[encoded data removed]",
      "text/plain": [
       "<Figure size 432x288 with 1 Axes>"
      ]
     },
     "metadata": {
      "needs_background": "light"
     },
     "output_type": "display_data"
    },
    {
     "data": {
      "image/png": "[encoded data removed]",
      "text/plain": [
       "<Figure size 432x288 with 1 Axes>"
      ]
     },
     "metadata": {
      "needs_background": "light"
     },
     "output_type": "display_data"
    },
    {
     "data": {
      "image/png": "[encoded data removed]",
      "text/plain": [
       "<Figure size 432x288 with 1 Axes>"
      ]
     },
     "metadata": {
      "needs_background": "light"
     },
     "output_type": "display_data"
    },
    {
     "data": {
      "image/png": "[encoded data removed]",
      "text/plain": [
       "<Figure size 432x288 with 1 Axes>"
      ]
     },
     "metadata": {
      "needs_background": "light"
     },
     "output_type": "display_data"
    },
    {
     "data": {
      "image/png": "[encoded data removed]",
      "text/plain": [
       "<Figure size 432x288 with 1 Axes>"
      ]
     },
     "metadata": {
      "needs_background": "light"
     },
     "output_type": "display_data"
    },
    {
     "data": {
      "image/png": "[encoded data removed]",
      "text/plain": [
       "<Figure size 432x288 with 1 Axes>"
      ]
     },
     "metadata": {
      "needs_background": "light"
     },
     "output_type": "display_data"
    },
    {
     "data": {
      "image/png": "[encoded data removed]",
      "text/plain": [
       "<Figure size 432x288 with 1 Axes>"
      ]
     },
     "metadata": {
      "needs_background": "light"
     },
     "output_type": "display_data"
    }
   ],
   "source": [
    "for i in (data.select_dtypes(np.number).columns):\n",
    "    boxplot = data.boxplot(i)\n",
    "    boxplot.plot()\n",
    "    plt.show()"
   ]
  },
  {
   "cell_type": "code",
   "execution_count": 18,
   "id": "3b047e9b",
   "metadata": {},
   "outputs": [],
   "source": [
    "#data.select_dtypes(np.number).columns\n",
    "#data"
   ]
  },
  {
   "cell_type": "code",
   "execution_count": 19,
   "id": "d331b898",
   "metadata": {},
   "outputs": [],
   "source": [
    "#data2 # macht keien Sinn bedrooms zu normieren... Vielleicht nur die continious data normieren?"
   ]
  },
  {
   "cell_type": "code",
   "execution_count": 20,
   "id": "645ab81a",
   "metadata": {},
   "outputs": [
    {
     "data": {
      "image/png": "[encoded data removed]",
      "text/plain": [
       "<Figure size 432x288 with 1 Axes>"
      ]
     },
     "metadata": {
      "needs_background": "light"
     },
     "output_type": "display_data"
    },
    {
     "data": {
      "image/png": "[encoded data removed]",
      "text/plain": [
       "<Figure size 432x288 with 1 Axes>"
      ]
     },
     "metadata": {
      "needs_background": "light"
     },
     "output_type": "display_data"
    },
    {
     "data": {
      "image/png": "[encoded data removed]",
      "text/plain": [
       "<Figure size 432x288 with 1 Axes>"
      ]
     },
     "metadata": {
      "needs_background": "light"
     },
     "output_type": "display_data"
    },
    {
     "data": {
      "image/png": "[encoded data removed]",
      "text/plain": [
       "<Figure size 432x288 with 1 Axes>"
      ]
     },
     "metadata": {
      "needs_background": "light"
     },
     "output_type": "display_data"
    },
    {
     "data": {
      "image/png": "[encoded data removed]",
      "text/plain": [
       "<Figure size 432x288 with 1 Axes>"
      ]
     },
     "metadata": {
      "needs_background": "light"
     },
     "output_type": "display_data"
    },
    {
     "data": {
      "image/png": "[encoded data removed]",
      "text/plain": [
       "<Figure size 432x288 with 1 Axes>"
      ]
     },
     "metadata": {
      "needs_background": "light"
     },
     "output_type": "display_data"
    },
    {
     "data": {
      "image/png": "[encoded data removed]",
      "text/plain": [
       "<Figure size 432x288 with 1 Axes>"
      ]
     },
     "metadata": {
      "needs_background": "light"
     },
     "output_type": "display_data"
    },
    {
     "data": {
      "image/png": "[encoded data removed]",
      "text/plain": [
       "<Figure size 432x288 with 1 Axes>"
      ]
     },
     "metadata": {
      "needs_background": "light"
     },
     "output_type": "display_data"
    },
    {
     "data": {
      "image/png": "[encoded data removed]",
      "text/plain": [
       "<Figure size 432x288 with 1 Axes>"
      ]
     },
     "metadata": {
      "needs_background": "light"
     },
     "output_type": "display_data"
    },
    {
     "data": {
      "image/png": "[encoded data removed]",
      "text/plain": [
       "<Figure size 432x288 with 1 Axes>"
      ]
     },
     "metadata": {
      "needs_background": "light"
     },
     "output_type": "display_data"
    },
    {
     "data": {
      "image/png": "[encoded data removed]",
      "text/plain": [
       "<Figure size 432x288 with 1 Axes>"
      ]
     },
     "metadata": {
      "needs_background": "light"
     },
     "output_type": "display_data"
    },
    {
     "data": {
      "image/png": "[encoded data removed]",
      "text/plain": [
       "<Figure size 432x288 with 1 Axes>"
      ]
     },
     "metadata": {
      "needs_background": "light"
     },
     "output_type": "display_data"
    },
    {
     "data": {
      "image/png": "[encoded data removed]",
      "text/plain": [
       "<Figure size 432x288 with 1 Axes>"
      ]
     },
     "metadata": {
      "needs_background": "light"
     },
     "output_type": "display_data"
    },
    {
     "data": {
      "image/png": "[encoded data removed]",
      "text/plain": [
       "<Figure size 432x288 with 1 Axes>"
      ]
     },
     "metadata": {
      "needs_background": "light"
     },
     "output_type": "display_data"
    },
    {
     "data": {
      "image/png": "[encoded data removed]",
      "text/plain": [
       "<Figure size 432x288 with 1 Axes>"
      ]
     },
     "metadata": {
      "needs_background": "light"
     },
     "output_type": "display_data"
    }
   ],
   "source": [
    "for column in data.select_dtypes(np.number).columns:\n",
    "    sns.distplot(data[column])\n",
    "    plt.show()"
   ]
  },
  {
   "cell_type": "code",
   "execution_count": 21,
   "id": "48f4f372",
   "metadata": {},
   "outputs": [
    {
     "data": {
      "text/plain": [
       "0       20683\n",
       "2014       91\n",
       "2013       37\n",
       "2003       36\n",
       "2007       35\n",
       "2000       35\n",
       "2005       35\n",
       "2004       26\n",
       "1990       25\n",
       "2006       24\n",
       "2009       22\n",
       "2002       22\n",
       "1989       22\n",
       "1991       20\n",
       "1994       19\n",
       "1993       19\n",
       "1998       19\n",
       "2001       19\n",
       "2010       18\n",
       "1983       18\n",
       "2008       18\n",
       "1984       18\n",
       "1987       18\n",
       "1986       17\n",
       "1985       17\n",
       "1992       17\n",
       "1999       17\n",
       "1995       16\n",
       "2015       16\n",
       "1988       15\n",
       "1996       15\n",
       "1997       15\n",
       "2011       13\n",
       "1980       11\n",
       "2012       11\n",
       "1982       11\n",
       "1979       10\n",
       "1970        9\n",
       "1968        8\n",
       "1977        8\n",
       "1978        6\n",
       "1975        6\n",
       "1964        5\n",
       "1981        5\n",
       "1958        5\n",
       "1965        5\n",
       "1973        5\n",
       "1960        4\n",
       "1972        4\n",
       "1963        4\n",
       "1969        4\n",
       "1976        3\n",
       "1956        3\n",
       "1945        3\n",
       "1957        3\n",
       "1953        3\n",
       "1974        3\n",
       "1955        3\n",
       "1950        2\n",
       "1967        2\n",
       "1971        2\n",
       "1940        2\n",
       "1962        2\n",
       "1946        2\n",
       "1934        1\n",
       "1948        1\n",
       "1954        1\n",
       "1951        1\n",
       "1944        1\n",
       "1959        1\n",
       "Name: yr_renovated, dtype: int64"
      ]
     },
     "execution_count": 21,
     "metadata": {},
     "output_type": "execute_result"
    }
   ],
   "source": [
    "pd.set_option('display.max_rows', 110) \n",
    "data['yr_renovated'].value_counts()\n",
    "#so I think it it is reasonable to drop this column: Most of houses 96% seem not being getting\n",
    "# renovated\n",
    "# or group it by 3 groups:\n",
    "#renovation =0 (=no renovation)\n",
    "#renovation =1  (renovation before 2000)\n",
    "#renovation=2 (renovation being taken place in 2000 or closer to now)\n",
    "#it will be used later in the notebook."
   ]
  },
  {
   "cell_type": "code",
   "execution_count": 22,
   "id": "a3671b75",
   "metadata": {},
   "outputs": [
    {
     "data": {
      "image/png": "[encoded data removed]",
      "text/plain": [
       "<Figure size 1296x1080 with 2 Axes>"
      ]
     },
     "metadata": {
      "needs_background": "light"
     },
     "output_type": "display_data"
    }
   ],
   "source": [
    "mask = np.zeros_like(data.corr())\n",
    "\n",
    "mask[np.triu_indices_from(mask)] = True # optional, to hide repeat half of the matrix\n",
    "\n",
    "fig, ax = plt.subplots(figsize=(18, 15))\n",
    "ax = sns.heatmap(data.corr(), mask=mask, annot=True)\n",
    "plt.show()"
   ]
  },
  {
   "cell_type": "code",
   "execution_count": 23,
   "id": "a4145d68",
   "metadata": {},
   "outputs": [],
   "source": [
    "def obj_to_float(df, columns_=[]):\n",
    "    cols_float=[]\n",
    "    for cols in columns_[:]:\n",
    "        cols_float=[]\n",
    "        for i in df[cols]:\n",
    "            cols_float.append(pd.to_numeric(str(i).replace(',','.')).astype(float))\n",
    "        df[cols]=cols_float\n",
    "        cols_float=[]\n",
    "    return(df)"
   ]
  },
  {
   "cell_type": "markdown",
   "id": "cf52d92b",
   "metadata": {},
   "source": [
    "### lat and long  have to much data, as they could be used as dummified encoded data for the model\n",
    "### so I change them into floats data type"
   ]
  },
  {
   "cell_type": "code",
   "execution_count": 24,
   "id": "ee68c16f",
   "metadata": {},
   "outputs": [],
   "source": [
    "data=obj_to_float(data, ['lat','long'])"
   ]
  },
  {
   "cell_type": "code",
   "execution_count": 25,
   "id": "012eb5ca",
   "metadata": {},
   "outputs": [
    {
     "data": {
      "text/html": [
       "<div>\n",
       "<style scoped>\n",
       "    .dataframe tbody tr th:only-of-type {\n",
       "        vertical-align: middle;\n",
       "    }\n",
       "\n",
       "    .dataframe tbody tr th {\n",
       "        vertical-align: top;\n",
       "    }\n",
       "\n",
       "    .dataframe thead th {\n",
       "        text-align: right;\n",
       "    }\n",
       "</style>\n",
       "<table border=\"1\" class=\"dataframe\">\n",
       "  <thead>\n",
       "    <tr style=\"text-align: right;\">\n",
       "      <th></th>\n",
       "      <th>bedrooms</th>\n",
       "      <th>sqft_living</th>\n",
       "      <th>sqft_lot</th>\n",
       "      <th>waterfront</th>\n",
       "      <th>view</th>\n",
       "      <th>condition</th>\n",
       "      <th>grade</th>\n",
       "      <th>sqft_above</th>\n",
       "      <th>sqft_basement</th>\n",
       "      <th>yr_built</th>\n",
       "      <th>...</th>\n",
       "      <th>bathrooms_6,5</th>\n",
       "      <th>bathrooms_6,75</th>\n",
       "      <th>bathrooms_7,5</th>\n",
       "      <th>bathrooms_7,75</th>\n",
       "      <th>bathrooms_8</th>\n",
       "      <th>floors_1,5</th>\n",
       "      <th>floors_2</th>\n",
       "      <th>floors_2,5</th>\n",
       "      <th>floors_3</th>\n",
       "      <th>floors_3,5</th>\n",
       "    </tr>\n",
       "    <tr>\n",
       "      <th>id</th>\n",
       "      <th></th>\n",
       "      <th></th>\n",
       "      <th></th>\n",
       "      <th></th>\n",
       "      <th></th>\n",
       "      <th></th>\n",
       "      <th></th>\n",
       "      <th></th>\n",
       "      <th></th>\n",
       "      <th></th>\n",
       "      <th></th>\n",
       "      <th></th>\n",
       "      <th></th>\n",
       "      <th></th>\n",
       "      <th></th>\n",
       "      <th></th>\n",
       "      <th></th>\n",
       "      <th></th>\n",
       "      <th></th>\n",
       "      <th></th>\n",
       "      <th></th>\n",
       "    </tr>\n",
       "  </thead>\n",
       "  <tbody>\n",
       "    <tr>\n",
       "      <th>7129300520</th>\n",
       "      <td>3</td>\n",
       "      <td>1180</td>\n",
       "      <td>5650</td>\n",
       "      <td>0</td>\n",
       "      <td>0</td>\n",
       "      <td>3</td>\n",
       "      <td>7</td>\n",
       "      <td>1180</td>\n",
       "      <td>0</td>\n",
       "      <td>1955</td>\n",
       "      <td>...</td>\n",
       "      <td>0</td>\n",
       "      <td>0</td>\n",
       "      <td>0</td>\n",
       "      <td>0</td>\n",
       "      <td>0</td>\n",
       "      <td>0</td>\n",
       "      <td>0</td>\n",
       "      <td>0</td>\n",
       "      <td>0</td>\n",
       "      <td>0</td>\n",
       "    </tr>\n",
       "    <tr>\n",
       "      <th>6414100192</th>\n",
       "      <td>3</td>\n",
       "      <td>2570</td>\n",
       "      <td>7242</td>\n",
       "      <td>0</td>\n",
       "      <td>0</td>\n",
       "      <td>3</td>\n",
       "      <td>7</td>\n",
       "      <td>2170</td>\n",
       "      <td>400</td>\n",
       "      <td>1951</td>\n",
       "      <td>...</td>\n",
       "      <td>0</td>\n",
       "      <td>0</td>\n",
       "      <td>0</td>\n",
       "      <td>0</td>\n",
       "      <td>0</td>\n",
       "      <td>0</td>\n",
       "      <td>1</td>\n",
       "      <td>0</td>\n",
       "      <td>0</td>\n",
       "      <td>0</td>\n",
       "    </tr>\n",
       "    <tr>\n",
       "      <th>5631500400</th>\n",
       "      <td>2</td>\n",
       "      <td>770</td>\n",
       "      <td>10000</td>\n",
       "      <td>0</td>\n",
       "      <td>0</td>\n",
       "      <td>3</td>\n",
       "      <td>6</td>\n",
       "      <td>770</td>\n",
       "      <td>0</td>\n",
       "      <td>1933</td>\n",
       "      <td>...</td>\n",
       "      <td>0</td>\n",
       "      <td>0</td>\n",
       "      <td>0</td>\n",
       "      <td>0</td>\n",
       "      <td>0</td>\n",
       "      <td>0</td>\n",
       "      <td>0</td>\n",
       "      <td>0</td>\n",
       "      <td>0</td>\n",
       "      <td>0</td>\n",
       "    </tr>\n",
       "    <tr>\n",
       "      <th>2487200875</th>\n",
       "      <td>4</td>\n",
       "      <td>1960</td>\n",
       "      <td>5000</td>\n",
       "      <td>0</td>\n",
       "      <td>0</td>\n",
       "      <td>5</td>\n",
       "      <td>7</td>\n",
       "      <td>1050</td>\n",
       "      <td>910</td>\n",
       "      <td>1965</td>\n",
       "      <td>...</td>\n",
       "      <td>0</td>\n",
       "      <td>0</td>\n",
       "      <td>0</td>\n",
       "      <td>0</td>\n",
       "      <td>0</td>\n",
       "      <td>0</td>\n",
       "      <td>0</td>\n",
       "      <td>0</td>\n",
       "      <td>0</td>\n",
       "      <td>0</td>\n",
       "    </tr>\n",
       "    <tr>\n",
       "      <th>1954400510</th>\n",
       "      <td>3</td>\n",
       "      <td>1680</td>\n",
       "      <td>8080</td>\n",
       "      <td>0</td>\n",
       "      <td>0</td>\n",
       "      <td>3</td>\n",
       "      <td>8</td>\n",
       "      <td>1680</td>\n",
       "      <td>0</td>\n",
       "      <td>1987</td>\n",
       "      <td>...</td>\n",
       "      <td>0</td>\n",
       "      <td>0</td>\n",
       "      <td>0</td>\n",
       "      <td>0</td>\n",
       "      <td>0</td>\n",
       "      <td>0</td>\n",
       "      <td>0</td>\n",
       "      <td>0</td>\n",
       "      <td>0</td>\n",
       "      <td>0</td>\n",
       "    </tr>\n",
       "    <tr>\n",
       "      <th>...</th>\n",
       "      <td>...</td>\n",
       "      <td>...</td>\n",
       "      <td>...</td>\n",
       "      <td>...</td>\n",
       "      <td>...</td>\n",
       "      <td>...</td>\n",
       "      <td>...</td>\n",
       "      <td>...</td>\n",
       "      <td>...</td>\n",
       "      <td>...</td>\n",
       "      <td>...</td>\n",
       "      <td>...</td>\n",
       "      <td>...</td>\n",
       "      <td>...</td>\n",
       "      <td>...</td>\n",
       "      <td>...</td>\n",
       "      <td>...</td>\n",
       "      <td>...</td>\n",
       "      <td>...</td>\n",
       "      <td>...</td>\n",
       "      <td>...</td>\n",
       "    </tr>\n",
       "    <tr>\n",
       "      <th>263000018</th>\n",
       "      <td>3</td>\n",
       "      <td>1530</td>\n",
       "      <td>1131</td>\n",
       "      <td>0</td>\n",
       "      <td>0</td>\n",
       "      <td>3</td>\n",
       "      <td>8</td>\n",
       "      <td>1530</td>\n",
       "      <td>0</td>\n",
       "      <td>2009</td>\n",
       "      <td>...</td>\n",
       "      <td>0</td>\n",
       "      <td>0</td>\n",
       "      <td>0</td>\n",
       "      <td>0</td>\n",
       "      <td>0</td>\n",
       "      <td>0</td>\n",
       "      <td>0</td>\n",
       "      <td>0</td>\n",
       "      <td>1</td>\n",
       "      <td>0</td>\n",
       "    </tr>\n",
       "    <tr>\n",
       "      <th>6600060120</th>\n",
       "      <td>4</td>\n",
       "      <td>2310</td>\n",
       "      <td>5813</td>\n",
       "      <td>0</td>\n",
       "      <td>0</td>\n",
       "      <td>3</td>\n",
       "      <td>8</td>\n",
       "      <td>2310</td>\n",
       "      <td>0</td>\n",
       "      <td>2014</td>\n",
       "      <td>...</td>\n",
       "      <td>0</td>\n",
       "      <td>0</td>\n",
       "      <td>0</td>\n",
       "      <td>0</td>\n",
       "      <td>0</td>\n",
       "      <td>0</td>\n",
       "      <td>1</td>\n",
       "      <td>0</td>\n",
       "      <td>0</td>\n",
       "      <td>0</td>\n",
       "    </tr>\n",
       "    <tr>\n",
       "      <th>1523300141</th>\n",
       "      <td>2</td>\n",
       "      <td>1020</td>\n",
       "      <td>1350</td>\n",
       "      <td>0</td>\n",
       "      <td>0</td>\n",
       "      <td>3</td>\n",
       "      <td>7</td>\n",
       "      <td>1020</td>\n",
       "      <td>0</td>\n",
       "      <td>2009</td>\n",
       "      <td>...</td>\n",
       "      <td>0</td>\n",
       "      <td>0</td>\n",
       "      <td>0</td>\n",
       "      <td>0</td>\n",
       "      <td>0</td>\n",
       "      <td>0</td>\n",
       "      <td>1</td>\n",
       "      <td>0</td>\n",
       "      <td>0</td>\n",
       "      <td>0</td>\n",
       "    </tr>\n",
       "    <tr>\n",
       "      <th>291310100</th>\n",
       "      <td>3</td>\n",
       "      <td>1600</td>\n",
       "      <td>2388</td>\n",
       "      <td>0</td>\n",
       "      <td>0</td>\n",
       "      <td>3</td>\n",
       "      <td>8</td>\n",
       "      <td>1600</td>\n",
       "      <td>0</td>\n",
       "      <td>2004</td>\n",
       "      <td>...</td>\n",
       "      <td>0</td>\n",
       "      <td>0</td>\n",
       "      <td>0</td>\n",
       "      <td>0</td>\n",
       "      <td>0</td>\n",
       "      <td>0</td>\n",
       "      <td>1</td>\n",
       "      <td>0</td>\n",
       "      <td>0</td>\n",
       "      <td>0</td>\n",
       "    </tr>\n",
       "    <tr>\n",
       "      <th>1523300157</th>\n",
       "      <td>2</td>\n",
       "      <td>1020</td>\n",
       "      <td>1076</td>\n",
       "      <td>0</td>\n",
       "      <td>0</td>\n",
       "      <td>3</td>\n",
       "      <td>7</td>\n",
       "      <td>1020</td>\n",
       "      <td>0</td>\n",
       "      <td>2008</td>\n",
       "      <td>...</td>\n",
       "      <td>0</td>\n",
       "      <td>0</td>\n",
       "      <td>0</td>\n",
       "      <td>0</td>\n",
       "      <td>0</td>\n",
       "      <td>0</td>\n",
       "      <td>1</td>\n",
       "      <td>0</td>\n",
       "      <td>0</td>\n",
       "      <td>0</td>\n",
       "    </tr>\n",
       "  </tbody>\n",
       "</table>\n",
       "<p>21597 rows × 421 columns</p>\n",
       "</div>"
      ],
      "text/plain": [
       "            bedrooms  sqft_living  sqft_lot  waterfront  view  condition  \\\n",
       "id                                                                         \n",
       "7129300520         3         1180      5650           0     0          3   \n",
       "6414100192         3         2570      7242           0     0          3   \n",
       "5631500400         2          770     10000           0     0          3   \n",
       "2487200875         4         1960      5000           0     0          5   \n",
       "1954400510         3         1680      8080           0     0          3   \n",
       "...              ...          ...       ...         ...   ...        ...   \n",
       "263000018          3         1530      1131           0     0          3   \n",
       "6600060120         4         2310      5813           0     0          3   \n",
       "1523300141         2         1020      1350           0     0          3   \n",
       "291310100          3         1600      2388           0     0          3   \n",
       "1523300157         2         1020      1076           0     0          3   \n",
       "\n",
       "            grade  sqft_above  sqft_basement  yr_built  ...  bathrooms_6,5  \\\n",
       "id                                                      ...                  \n",
       "7129300520      7        1180              0      1955  ...              0   \n",
       "6414100192      7        2170            400      1951  ...              0   \n",
       "5631500400      6         770              0      1933  ...              0   \n",
       "2487200875      7        1050            910      1965  ...              0   \n",
       "1954400510      8        1680              0      1987  ...              0   \n",
       "...           ...         ...            ...       ...  ...            ...   \n",
       "263000018       8        1530              0      2009  ...              0   \n",
       "6600060120      8        2310              0      2014  ...              0   \n",
       "1523300141      7        1020              0      2009  ...              0   \n",
       "291310100       8        1600              0      2004  ...              0   \n",
       "1523300157      7        1020              0      2008  ...              0   \n",
       "\n",
       "            bathrooms_6,75  bathrooms_7,5  bathrooms_7,75  bathrooms_8  \\\n",
       "id                                                                       \n",
       "7129300520               0              0               0            0   \n",
       "6414100192               0              0               0            0   \n",
       "5631500400               0              0               0            0   \n",
       "2487200875               0              0               0            0   \n",
       "1954400510               0              0               0            0   \n",
       "...                    ...            ...             ...          ...   \n",
       "263000018                0              0               0            0   \n",
       "6600060120               0              0               0            0   \n",
       "1523300141               0              0               0            0   \n",
       "291310100                0              0               0            0   \n",
       "1523300157               0              0               0            0   \n",
       "\n",
       "            floors_1,5  floors_2  floors_2,5  floors_3  floors_3,5  \n",
       "id                                                                  \n",
       "7129300520           0         0           0         0           0  \n",
       "6414100192           0         1           0         0           0  \n",
       "5631500400           0         0           0         0           0  \n",
       "2487200875           0         0           0         0           0  \n",
       "1954400510           0         0           0         0           0  \n",
       "...                ...       ...         ...       ...         ...  \n",
       "263000018            0         0           0         1           0  \n",
       "6600060120           0         1           0         0           0  \n",
       "1523300141           0         1           0         0           0  \n",
       "291310100            0         1           0         0           0  \n",
       "1523300157           0         1           0         0           0  \n",
       "\n",
       "[21597 rows x 421 columns]"
      ]
     },
     "execution_count": 25,
     "metadata": {},
     "output_type": "execute_result"
    }
   ],
   "source": [
    "results1 = pd.get_dummies(data, drop_first=True) \n",
    "results1"
   ]
  },
  {
   "cell_type": "markdown",
   "id": "e436f137",
   "metadata": {},
   "source": [
    "### Creating a function, which takes the data frame,  splits them into target and features and afterwards does the train/test-split. In this function a fitting model can be inserted and it returns the R^2,  MAE and MSE score values."
   ]
  },
  {
   "cell_type": "code",
   "execution_count": 26,
   "id": "1a72594c",
   "metadata": {},
   "outputs": [],
   "source": [
    "def regression_results(df, target, model):\n",
    "    X = df.drop(target, axis=1)\n",
    "    y = df[target]\n",
    "    X_train, X_test, y_train, y_test = train_test_split(X, y, test_size=0.3, random_state=42)\n",
    "    \n",
    "    \n",
    "    model.fit(X_train, y_train)\n",
    "    predictions= model.predict(X_test)\n",
    "    #return (model.score(X_test, y_test))\n",
    "    return(r2_score(y_test, predictions), mean_absolute_error(y_test, predictions), \n",
    "        mean_squared_error(y_test, predictions, squared=False))\n",
    "   "
   ]
  },
  {
   "cell_type": "code",
   "execution_count": 27,
   "id": "9d89102e",
   "metadata": {},
   "outputs": [],
   "source": [
    "# modifaction of the function before, in order to plot predictions against trues of \n",
    "#target values.\n",
    "def predictions(df, target, model):\n",
    "    X = df.drop(target, axis=1)\n",
    "    y = df[target]\n",
    "    X_train, X_test, y_train, y_test = train_test_split(X, y, test_size=0.3, random_state=42)\n",
    "    \n",
    "    model.fit(X_train, y_train)\n",
    "    return(model.predict(X_test), y_test)"
   ]
  },
  {
   "cell_type": "markdown",
   "id": "9c74e060",
   "metadata": {},
   "source": [
    "## Results for unmodified data (except for 'lat' and 'long')"
   ]
  },
  {
   "cell_type": "code",
   "execution_count": 28,
   "id": "34d9b9fc",
   "metadata": {},
   "outputs": [
    {
     "name": "stdout",
     "output_type": "stream",
     "text": [
      "Using Linear Regression gives scores as follows, R^2: 0.6633218009692994 MAE: 124473.79367467438 MSE: 211288.9318000345\n"
     ]
    }
   ],
   "source": [
    "R2_lin, MAE_lin, MSE_lin =regression_results(results1, 'price', LinearRegression())\n",
    "print('Using Linear Regression gives scores as follows, R^2:' ,R2_lin,'MAE:', MAE_lin, 'MSE:',MSE_lin)"
   ]
  },
  {
   "cell_type": "code",
   "execution_count": 29,
   "id": "d84778fa",
   "metadata": {},
   "outputs": [],
   "source": [
    "from sklearn.neighbors import KNeighborsRegressor\n",
    "\n",
    "knn = KNeighborsRegressor(n_neighbors=3)"
   ]
  },
  {
   "cell_type": "code",
   "execution_count": 30,
   "id": "1fa1248d",
   "metadata": {},
   "outputs": [
    {
     "name": "stdout",
     "output_type": "stream",
     "text": [
      "Using KNeighborsRegressor gives scores as follows, R^2: 0.4559856252659741 MAE: 164041.55246913582 MSE: 268580.474960129\n"
     ]
    }
   ],
   "source": [
    "R2_knn, MAE_knn, MSE_knn =regression_results(results1, 'price', knn)\n",
    "print('Using KNeighborsRegressor gives scores as follows, R^2:',R2_knn, 'MAE:',MAE_knn,'MSE:', MSE_knn)"
   ]
  },
  {
   "cell_type": "code",
   "execution_count": 31,
   "id": "d23a6669",
   "metadata": {},
   "outputs": [],
   "source": [
    "from sklearn.neural_network import MLPRegressor\n",
    "from sklearn.datasets import make_regression\n",
    "regr = MLPRegressor(random_state=1, max_iter=500)"
   ]
  },
  {
   "cell_type": "code",
   "execution_count": 32,
   "id": "53381ef5",
   "metadata": {},
   "outputs": [
    {
     "name": "stdout",
     "output_type": "stream",
     "text": [
      "Using MLPRegressor gives scores as follows, R^2: 0.5027066770810694 MAE: 171229.19171289526 MSE: 256788.49610684745\n"
     ]
    }
   ],
   "source": [
    "R2_mlp, MAE_mlp, MSE_mlp =regression_results(results1, 'price', regr)\n",
    "print('Using MLPRegressor gives scores as follows, R^2:',R2_mlp, 'MAE:', MAE_mlp, 'MSE:',MSE_mlp)"
   ]
  },
  {
   "cell_type": "code",
   "execution_count": 33,
   "id": "4f02ed58",
   "metadata": {},
   "outputs": [
    {
     "data": {
      "text/plain": [
       "id\n",
       "7129300520    10/13/2014\n",
       "6414100192     12/9/2014\n",
       "5631500400     2/25/2015\n",
       "2487200875     12/9/2014\n",
       "1954400510     2/18/2015\n",
       "                 ...    \n",
       "263000018      5/21/2014\n",
       "6600060120     2/23/2015\n",
       "1523300141     6/23/2014\n",
       "291310100      1/16/2015\n",
       "1523300157    10/15/2014\n",
       "Name: date, Length: 21597, dtype: object"
      ]
     },
     "execution_count": 33,
     "metadata": {},
     "output_type": "execute_result"
    }
   ],
   "source": [
    "data1=data.copy()\n",
    "data1['date']"
   ]
  },
  {
   "cell_type": "markdown",
   "id": "9e1b5410",
   "metadata": {},
   "source": [
    "### Dealing with yr_built and yr_renovated:\n",
    "### Replace them with a new column, that takes the age from the time, the house was either  renovated or if it has been not renovated from the time it has been built. (The time it took, from when the house appears as 'new looking'.)"
   ]
  },
  {
   "cell_type": "code",
   "execution_count": 34,
   "id": "b119156e",
   "metadata": {},
   "outputs": [],
   "source": [
    "data1=data.copy()\n",
    "date=[]\n",
    "for i in data1['date']:\n",
    "    date.append(int(pd.to_datetime(i, format='%m/%d/%Y').strftime('%Y')))\n",
    "date\n",
    "date_min_yr_built=date-data1['yr_built']\n",
    "date_min_yr_built\n",
    "date_min_yr_renovated=date-data1['yr_renovated']\n",
    "date_min_yr_renovated\n",
    "for i in (0,len(date_min_yr_renovated)-1):\n",
    "    date[i]\n",
    "\n",
    "#print(len(date), len(date_min_yr_renovated), len (date_min_yr_built) )"
   ]
  },
  {
   "cell_type": "code",
   "execution_count": 35,
   "id": "75bbf445",
   "metadata": {},
   "outputs": [],
   "source": [
    "date=[]\n",
    "for i in data1['date']:\n",
    "    date.append(int(pd.to_datetime(i, format='%m/%d/%Y').strftime('%Y')))\n",
    "date_min_yr_built=date-data1['yr_built']\n",
    "date_min_yr_renovated=date-data1['yr_renovated']"
   ]
  },
  {
   "cell_type": "code",
   "execution_count": 36,
   "id": "7ebc38fe",
   "metadata": {},
   "outputs": [
    {
     "data": {
      "text/plain": [
       "-1       18\n",
       " 0      516\n",
       " 1      330\n",
       " 2      190\n",
       " 3      178\n",
       "       ... \n",
       " 111     42\n",
       " 112     31\n",
       " 113     27\n",
       " 114     54\n",
       " 115     21\n",
       "Name: new_or_renovated, Length: 117, dtype: int64"
      ]
     },
     "execution_count": 36,
     "metadata": {},
     "output_type": "execute_result"
    }
   ],
   "source": [
    "since_last_new=[]\n",
    "for i in range (0,len(date)):\n",
    "    if date_min_yr_renovated.iloc[i]==date[i]:\n",
    "        since_last_new.append(date_min_yr_built.iloc[i])\n",
    "    else:\n",
    "        since_last_new.append(date_min_yr_renovated.iloc[i])\n",
    "    i=i+1\n",
    "data1['new_or_renovated']=since_last_new\n",
    "data1['new_or_renovated'].value_counts().sort_index()\n",
    "\n",
    "    "
   ]
  },
  {
   "cell_type": "code",
   "execution_count": 37,
   "id": "79b029cd",
   "metadata": {},
   "outputs": [
    {
     "data": {
      "text/plain": [
       "Index(['date', 'bedrooms', 'bathrooms', 'sqft_living', 'sqft_lot', 'floors',\n",
       "       'waterfront', 'view', 'condition', 'grade', 'sqft_above',\n",
       "       'sqft_basement', 'yr_built', 'yr_renovated', 'zipcode', 'lat', 'long',\n",
       "       'sqft_living15', 'sqft_lot15', 'price', 'new_or_renovated'],\n",
       "      dtype='object')"
      ]
     },
     "execution_count": 37,
     "metadata": {},
     "output_type": "execute_result"
    }
   ],
   "source": [
    "data1.columns"
   ]
  },
  {
   "cell_type": "code",
   "execution_count": 38,
   "id": "b6baf65a",
   "metadata": {},
   "outputs": [
    {
     "data": {
      "text/plain": [
       "Index(['bedrooms', 'bathrooms', 'sqft_living', 'sqft_lot', 'floors',\n",
       "       'waterfront', 'view', 'condition', 'grade', 'sqft_above',\n",
       "       'sqft_basement', 'zipcode', 'lat', 'long', 'sqft_living15',\n",
       "       'sqft_lot15', 'price', 'new_or_renovated'],\n",
       "      dtype='object')"
      ]
     },
     "execution_count": 38,
     "metadata": {},
     "output_type": "execute_result"
    }
   ],
   "source": [
    "data2=data1.drop(['yr_renovated','yr_built','date'], axis=1)\n",
    "data2.columns"
   ]
  },
  {
   "cell_type": "code",
   "execution_count": 39,
   "id": "bf6cbf91",
   "metadata": {},
   "outputs": [
    {
     "data": {
      "text/html": [
       "<div>\n",
       "<style scoped>\n",
       "    .dataframe tbody tr th:only-of-type {\n",
       "        vertical-align: middle;\n",
       "    }\n",
       "\n",
       "    .dataframe tbody tr th {\n",
       "        vertical-align: top;\n",
       "    }\n",
       "\n",
       "    .dataframe thead th {\n",
       "        text-align: right;\n",
       "    }\n",
       "</style>\n",
       "<table border=\"1\" class=\"dataframe\">\n",
       "  <thead>\n",
       "    <tr style=\"text-align: right;\">\n",
       "      <th></th>\n",
       "      <th>bedrooms</th>\n",
       "      <th>sqft_living</th>\n",
       "      <th>sqft_lot</th>\n",
       "      <th>waterfront</th>\n",
       "      <th>view</th>\n",
       "      <th>condition</th>\n",
       "      <th>grade</th>\n",
       "      <th>sqft_above</th>\n",
       "      <th>sqft_basement</th>\n",
       "      <th>zipcode</th>\n",
       "      <th>...</th>\n",
       "      <th>bathrooms_6,5</th>\n",
       "      <th>bathrooms_6,75</th>\n",
       "      <th>bathrooms_7,5</th>\n",
       "      <th>bathrooms_7,75</th>\n",
       "      <th>bathrooms_8</th>\n",
       "      <th>floors_1,5</th>\n",
       "      <th>floors_2</th>\n",
       "      <th>floors_2,5</th>\n",
       "      <th>floors_3</th>\n",
       "      <th>floors_3,5</th>\n",
       "    </tr>\n",
       "    <tr>\n",
       "      <th>id</th>\n",
       "      <th></th>\n",
       "      <th></th>\n",
       "      <th></th>\n",
       "      <th></th>\n",
       "      <th></th>\n",
       "      <th></th>\n",
       "      <th></th>\n",
       "      <th></th>\n",
       "      <th></th>\n",
       "      <th></th>\n",
       "      <th></th>\n",
       "      <th></th>\n",
       "      <th></th>\n",
       "      <th></th>\n",
       "      <th></th>\n",
       "      <th></th>\n",
       "      <th></th>\n",
       "      <th></th>\n",
       "      <th></th>\n",
       "      <th></th>\n",
       "      <th></th>\n",
       "    </tr>\n",
       "  </thead>\n",
       "  <tbody>\n",
       "    <tr>\n",
       "      <th>7129300520</th>\n",
       "      <td>3</td>\n",
       "      <td>1180</td>\n",
       "      <td>5650</td>\n",
       "      <td>0</td>\n",
       "      <td>0</td>\n",
       "      <td>3</td>\n",
       "      <td>7</td>\n",
       "      <td>1180</td>\n",
       "      <td>0</td>\n",
       "      <td>98178</td>\n",
       "      <td>...</td>\n",
       "      <td>0</td>\n",
       "      <td>0</td>\n",
       "      <td>0</td>\n",
       "      <td>0</td>\n",
       "      <td>0</td>\n",
       "      <td>0</td>\n",
       "      <td>0</td>\n",
       "      <td>0</td>\n",
       "      <td>0</td>\n",
       "      <td>0</td>\n",
       "    </tr>\n",
       "    <tr>\n",
       "      <th>6414100192</th>\n",
       "      <td>3</td>\n",
       "      <td>2570</td>\n",
       "      <td>7242</td>\n",
       "      <td>0</td>\n",
       "      <td>0</td>\n",
       "      <td>3</td>\n",
       "      <td>7</td>\n",
       "      <td>2170</td>\n",
       "      <td>400</td>\n",
       "      <td>98125</td>\n",
       "      <td>...</td>\n",
       "      <td>0</td>\n",
       "      <td>0</td>\n",
       "      <td>0</td>\n",
       "      <td>0</td>\n",
       "      <td>0</td>\n",
       "      <td>0</td>\n",
       "      <td>1</td>\n",
       "      <td>0</td>\n",
       "      <td>0</td>\n",
       "      <td>0</td>\n",
       "    </tr>\n",
       "    <tr>\n",
       "      <th>5631500400</th>\n",
       "      <td>2</td>\n",
       "      <td>770</td>\n",
       "      <td>10000</td>\n",
       "      <td>0</td>\n",
       "      <td>0</td>\n",
       "      <td>3</td>\n",
       "      <td>6</td>\n",
       "      <td>770</td>\n",
       "      <td>0</td>\n",
       "      <td>98028</td>\n",
       "      <td>...</td>\n",
       "      <td>0</td>\n",
       "      <td>0</td>\n",
       "      <td>0</td>\n",
       "      <td>0</td>\n",
       "      <td>0</td>\n",
       "      <td>0</td>\n",
       "      <td>0</td>\n",
       "      <td>0</td>\n",
       "      <td>0</td>\n",
       "      <td>0</td>\n",
       "    </tr>\n",
       "    <tr>\n",
       "      <th>2487200875</th>\n",
       "      <td>4</td>\n",
       "      <td>1960</td>\n",
       "      <td>5000</td>\n",
       "      <td>0</td>\n",
       "      <td>0</td>\n",
       "      <td>5</td>\n",
       "      <td>7</td>\n",
       "      <td>1050</td>\n",
       "      <td>910</td>\n",
       "      <td>98136</td>\n",
       "      <td>...</td>\n",
       "      <td>0</td>\n",
       "      <td>0</td>\n",
       "      <td>0</td>\n",
       "      <td>0</td>\n",
       "      <td>0</td>\n",
       "      <td>0</td>\n",
       "      <td>0</td>\n",
       "      <td>0</td>\n",
       "      <td>0</td>\n",
       "      <td>0</td>\n",
       "    </tr>\n",
       "    <tr>\n",
       "      <th>1954400510</th>\n",
       "      <td>3</td>\n",
       "      <td>1680</td>\n",
       "      <td>8080</td>\n",
       "      <td>0</td>\n",
       "      <td>0</td>\n",
       "      <td>3</td>\n",
       "      <td>8</td>\n",
       "      <td>1680</td>\n",
       "      <td>0</td>\n",
       "      <td>98074</td>\n",
       "      <td>...</td>\n",
       "      <td>0</td>\n",
       "      <td>0</td>\n",
       "      <td>0</td>\n",
       "      <td>0</td>\n",
       "      <td>0</td>\n",
       "      <td>0</td>\n",
       "      <td>0</td>\n",
       "      <td>0</td>\n",
       "      <td>0</td>\n",
       "      <td>0</td>\n",
       "    </tr>\n",
       "    <tr>\n",
       "      <th>...</th>\n",
       "      <td>...</td>\n",
       "      <td>...</td>\n",
       "      <td>...</td>\n",
       "      <td>...</td>\n",
       "      <td>...</td>\n",
       "      <td>...</td>\n",
       "      <td>...</td>\n",
       "      <td>...</td>\n",
       "      <td>...</td>\n",
       "      <td>...</td>\n",
       "      <td>...</td>\n",
       "      <td>...</td>\n",
       "      <td>...</td>\n",
       "      <td>...</td>\n",
       "      <td>...</td>\n",
       "      <td>...</td>\n",
       "      <td>...</td>\n",
       "      <td>...</td>\n",
       "      <td>...</td>\n",
       "      <td>...</td>\n",
       "      <td>...</td>\n",
       "    </tr>\n",
       "    <tr>\n",
       "      <th>263000018</th>\n",
       "      <td>3</td>\n",
       "      <td>1530</td>\n",
       "      <td>1131</td>\n",
       "      <td>0</td>\n",
       "      <td>0</td>\n",
       "      <td>3</td>\n",
       "      <td>8</td>\n",
       "      <td>1530</td>\n",
       "      <td>0</td>\n",
       "      <td>98103</td>\n",
       "      <td>...</td>\n",
       "      <td>0</td>\n",
       "      <td>0</td>\n",
       "      <td>0</td>\n",
       "      <td>0</td>\n",
       "      <td>0</td>\n",
       "      <td>0</td>\n",
       "      <td>0</td>\n",
       "      <td>0</td>\n",
       "      <td>1</td>\n",
       "      <td>0</td>\n",
       "    </tr>\n",
       "    <tr>\n",
       "      <th>6600060120</th>\n",
       "      <td>4</td>\n",
       "      <td>2310</td>\n",
       "      <td>5813</td>\n",
       "      <td>0</td>\n",
       "      <td>0</td>\n",
       "      <td>3</td>\n",
       "      <td>8</td>\n",
       "      <td>2310</td>\n",
       "      <td>0</td>\n",
       "      <td>98146</td>\n",
       "      <td>...</td>\n",
       "      <td>0</td>\n",
       "      <td>0</td>\n",
       "      <td>0</td>\n",
       "      <td>0</td>\n",
       "      <td>0</td>\n",
       "      <td>0</td>\n",
       "      <td>1</td>\n",
       "      <td>0</td>\n",
       "      <td>0</td>\n",
       "      <td>0</td>\n",
       "    </tr>\n",
       "    <tr>\n",
       "      <th>1523300141</th>\n",
       "      <td>2</td>\n",
       "      <td>1020</td>\n",
       "      <td>1350</td>\n",
       "      <td>0</td>\n",
       "      <td>0</td>\n",
       "      <td>3</td>\n",
       "      <td>7</td>\n",
       "      <td>1020</td>\n",
       "      <td>0</td>\n",
       "      <td>98144</td>\n",
       "      <td>...</td>\n",
       "      <td>0</td>\n",
       "      <td>0</td>\n",
       "      <td>0</td>\n",
       "      <td>0</td>\n",
       "      <td>0</td>\n",
       "      <td>0</td>\n",
       "      <td>1</td>\n",
       "      <td>0</td>\n",
       "      <td>0</td>\n",
       "      <td>0</td>\n",
       "    </tr>\n",
       "    <tr>\n",
       "      <th>291310100</th>\n",
       "      <td>3</td>\n",
       "      <td>1600</td>\n",
       "      <td>2388</td>\n",
       "      <td>0</td>\n",
       "      <td>0</td>\n",
       "      <td>3</td>\n",
       "      <td>8</td>\n",
       "      <td>1600</td>\n",
       "      <td>0</td>\n",
       "      <td>98027</td>\n",
       "      <td>...</td>\n",
       "      <td>0</td>\n",
       "      <td>0</td>\n",
       "      <td>0</td>\n",
       "      <td>0</td>\n",
       "      <td>0</td>\n",
       "      <td>0</td>\n",
       "      <td>1</td>\n",
       "      <td>0</td>\n",
       "      <td>0</td>\n",
       "      <td>0</td>\n",
       "    </tr>\n",
       "    <tr>\n",
       "      <th>1523300157</th>\n",
       "      <td>2</td>\n",
       "      <td>1020</td>\n",
       "      <td>1076</td>\n",
       "      <td>0</td>\n",
       "      <td>0</td>\n",
       "      <td>3</td>\n",
       "      <td>7</td>\n",
       "      <td>1020</td>\n",
       "      <td>0</td>\n",
       "      <td>98144</td>\n",
       "      <td>...</td>\n",
       "      <td>0</td>\n",
       "      <td>0</td>\n",
       "      <td>0</td>\n",
       "      <td>0</td>\n",
       "      <td>0</td>\n",
       "      <td>0</td>\n",
       "      <td>1</td>\n",
       "      <td>0</td>\n",
       "      <td>0</td>\n",
       "      <td>0</td>\n",
       "    </tr>\n",
       "  </tbody>\n",
       "</table>\n",
       "<p>21597 rows × 49 columns</p>\n",
       "</div>"
      ],
      "text/plain": [
       "            bedrooms  sqft_living  sqft_lot  waterfront  view  condition  \\\n",
       "id                                                                         \n",
       "7129300520         3         1180      5650           0     0          3   \n",
       "6414100192         3         2570      7242           0     0          3   \n",
       "5631500400         2          770     10000           0     0          3   \n",
       "2487200875         4         1960      5000           0     0          5   \n",
       "1954400510         3         1680      8080           0     0          3   \n",
       "...              ...          ...       ...         ...   ...        ...   \n",
       "263000018          3         1530      1131           0     0          3   \n",
       "6600060120         4         2310      5813           0     0          3   \n",
       "1523300141         2         1020      1350           0     0          3   \n",
       "291310100          3         1600      2388           0     0          3   \n",
       "1523300157         2         1020      1076           0     0          3   \n",
       "\n",
       "            grade  sqft_above  sqft_basement  zipcode  ...  bathrooms_6,5  \\\n",
       "id                                                     ...                  \n",
       "7129300520      7        1180              0    98178  ...              0   \n",
       "6414100192      7        2170            400    98125  ...              0   \n",
       "5631500400      6         770              0    98028  ...              0   \n",
       "2487200875      7        1050            910    98136  ...              0   \n",
       "1954400510      8        1680              0    98074  ...              0   \n",
       "...           ...         ...            ...      ...  ...            ...   \n",
       "263000018       8        1530              0    98103  ...              0   \n",
       "6600060120      8        2310              0    98146  ...              0   \n",
       "1523300141      7        1020              0    98144  ...              0   \n",
       "291310100       8        1600              0    98027  ...              0   \n",
       "1523300157      7        1020              0    98144  ...              0   \n",
       "\n",
       "            bathrooms_6,75  bathrooms_7,5  bathrooms_7,75  bathrooms_8  \\\n",
       "id                                                                       \n",
       "7129300520               0              0               0            0   \n",
       "6414100192               0              0               0            0   \n",
       "5631500400               0              0               0            0   \n",
       "2487200875               0              0               0            0   \n",
       "1954400510               0              0               0            0   \n",
       "...                    ...            ...             ...          ...   \n",
       "263000018                0              0               0            0   \n",
       "6600060120               0              0               0            0   \n",
       "1523300141               0              0               0            0   \n",
       "291310100                0              0               0            0   \n",
       "1523300157               0              0               0            0   \n",
       "\n",
       "            floors_1,5  floors_2  floors_2,5  floors_3  floors_3,5  \n",
       "id                                                                  \n",
       "7129300520           0         0           0         0           0  \n",
       "6414100192           0         1           0         0           0  \n",
       "5631500400           0         0           0         0           0  \n",
       "2487200875           0         0           0         0           0  \n",
       "1954400510           0         0           0         0           0  \n",
       "...                ...       ...         ...       ...         ...  \n",
       "263000018            0         0           0         1           0  \n",
       "6600060120           0         1           0         0           0  \n",
       "1523300141           0         1           0         0           0  \n",
       "291310100            0         1           0         0           0  \n",
       "1523300157           0         1           0         0           0  \n",
       "\n",
       "[21597 rows x 49 columns]"
      ]
     },
     "execution_count": 39,
     "metadata": {},
     "output_type": "execute_result"
    }
   ],
   "source": [
    "results2 = pd.get_dummies(data2, drop_first=True) \n",
    "results2"
   ]
  },
  {
   "cell_type": "markdown",
   "id": "375ff5ba",
   "metadata": {},
   "source": [
    "### results with modified data regarding 'yr_renovated', 'yr_built'"
   ]
  },
  {
   "cell_type": "code",
   "execution_count": 40,
   "id": "a427012c",
   "metadata": {},
   "outputs": [
    {
     "name": "stdout",
     "output_type": "stream",
     "text": [
      "Using Linear Regression gives scores as follows, R^2: 0.6574632179955832 MAE: 124230.42379465401 MSE: 213119.337029743\n"
     ]
    }
   ],
   "source": [
    "R2_lin, MAE_lin, MSE_lin =regression_results(results2, 'price', LinearRegression())\n",
    "print('Using Linear Regression gives scores as follows, R^2:' ,R2_lin,'MAE:', MAE_lin, 'MSE:',MSE_lin)"
   ]
  },
  {
   "cell_type": "code",
   "execution_count": 41,
   "id": "d8f9a090",
   "metadata": {},
   "outputs": [
    {
     "name": "stdout",
     "output_type": "stream",
     "text": [
      "Using KNeighborsRegressor gives scores as follows, R^2: 0.44805189822116476 MAE: 164404.10498971195 MSE: 270531.83096449525\n"
     ]
    }
   ],
   "source": [
    "R2_knn, MAE_knn, MSE_knn =regression_results(results2, 'price', knn)\n",
    "print('Using KNeighborsRegressor gives scores as follows, R^2:',R2_knn, 'MAE:',MAE_knn,'MSE:', MSE_knn)"
   ]
  },
  {
   "cell_type": "code",
   "execution_count": 42,
   "id": "51270615",
   "metadata": {},
   "outputs": [
    {
     "name": "stdout",
     "output_type": "stream",
     "text": [
      "Using MLPRegressor gives scores as follows, R^2: 0.5956369231358526 MAE: 148363.37874777263 MSE: 231555.44404764575\n"
     ]
    }
   ],
   "source": [
    "R2_mlp, MAE_mlp, MSE_mlp =regression_results(results2, 'price', regr)\n",
    "print('Using MLPRegressor gives scores as follows, R^2:',R2_mlp, 'MAE:', MAE_mlp, 'MSE:',MSE_mlp)"
   ]
  },
  {
   "cell_type": "code",
   "execution_count": 43,
   "id": "a4578c3d",
   "metadata": {},
   "outputs": [],
   "source": [
    "data1=data.copy()\n",
    "yr_renovated_grouped=[]\n",
    "for i in data1['yr_renovated']:\n",
    "    if i==0:\n",
    "        yr_renovated_grouped.append('no') \n",
    "    elif i < 2000:\n",
    "        yr_renovated_grouped.append('old')\n",
    "    else:\n",
    "        yr_renovated_grouped.append('new')\n",
    "\n",
    "data1['renovated']=yr_renovated_grouped\n",
    "data1=data1.drop('yr_renovated', axis=1)"
   ]
  },
  {
   "cell_type": "code",
   "execution_count": 44,
   "id": "53631374",
   "metadata": {},
   "outputs": [],
   "source": [
    "results3 = pd.get_dummies(data1, drop_first=True) \n",
    "#results3"
   ]
  },
  {
   "cell_type": "code",
   "execution_count": 45,
   "id": "3a0c55ca",
   "metadata": {},
   "outputs": [
    {
     "name": "stdout",
     "output_type": "stream",
     "text": [
      "Using Linear Regression gives scores as follows, R^2: -1.674482131144221 MAE: 132451.10016570002 MSE: 595510.0567818154\n"
     ]
    }
   ],
   "source": [
    "R2_lin, MAE_lin, MSE_lin =regression_results(results3, 'price', LinearRegression())\n",
    "print('Using Linear Regression gives scores as follows, R^2:' ,R2_lin,'MAE:', MAE_lin, 'MSE:',MSE_lin)\n",
    "#the problem here is probably, that it is not dealt with the column 'date'"
   ]
  },
  {
   "cell_type": "code",
   "execution_count": 46,
   "id": "92519448",
   "metadata": {},
   "outputs": [
    {
     "name": "stdout",
     "output_type": "stream",
     "text": [
      "Using KNeighborsRegressor gives scores as follows, R^2: 0.4487229888996136 MAE: 164346.76697530865 MSE: 270367.3167573046\n"
     ]
    }
   ],
   "source": [
    "R2_knn, MAE_knn, MSE_knn =regression_results(results3, 'price', knn)\n",
    "print('Using KNeighborsRegressor gives scores as follows, R^2:',R2_knn, 'MAE:',MAE_knn,'MSE:', MSE_knn)"
   ]
  },
  {
   "cell_type": "code",
   "execution_count": 47,
   "id": "82d265d5",
   "metadata": {},
   "outputs": [
    {
     "name": "stdout",
     "output_type": "stream",
     "text": [
      "Using MLPRegressor gives scores as follows, R^2: 0.5693331433529278 MAE: 155719.01952669866 MSE: 238968.12447541085\n"
     ]
    }
   ],
   "source": [
    "R2_mlp, MAE_mlp, MSE_mlp =regression_results(results3, 'price', regr)\n",
    "print('Using MLPRegressor gives scores as follows, R^2:',R2_mlp, 'MAE:', MAE_mlp, 'MSE:',MSE_mlp)"
   ]
  },
  {
   "cell_type": "markdown",
   "id": "019e3140",
   "metadata": {},
   "source": [
    "#### putting zipcode into categorical, because it has no meaning as number"
   ]
  },
  {
   "cell_type": "code",
   "execution_count": 48,
   "id": "f1b42c9e",
   "metadata": {},
   "outputs": [
    {
     "data": {
      "text/plain": [
       "date              object\n",
       "bedrooms           int64\n",
       "bathrooms         object\n",
       "sqft_living        int64\n",
       "sqft_lot           int64\n",
       "floors            object\n",
       "waterfront         int64\n",
       "view               int64\n",
       "condition          int64\n",
       "grade              int64\n",
       "sqft_above         int64\n",
       "sqft_basement      int64\n",
       "yr_built           int64\n",
       "yr_renovated       int64\n",
       "zipcode           object\n",
       "lat              float64\n",
       "long             float64\n",
       "sqft_living15      int64\n",
       "sqft_lot15         int64\n",
       "price              int64\n",
       "dtype: object"
      ]
     },
     "execution_count": 48,
     "metadata": {},
     "output_type": "execute_result"
    }
   ],
   "source": [
    "data1=data.copy()\n",
    "data1['zipcode']=data1['zipcode'].astype(object)\n",
    "data1.dtypes"
   ]
  },
  {
   "cell_type": "code",
   "execution_count": 49,
   "id": "f69b0e36",
   "metadata": {},
   "outputs": [],
   "source": [
    "results4 = pd.get_dummies(data1, drop_first=True) \n",
    "#results4"
   ]
  },
  {
   "cell_type": "code",
   "execution_count": 50,
   "id": "984b9aa0",
   "metadata": {},
   "outputs": [
    {
     "name": "stdout",
     "output_type": "stream",
     "text": [
      "Using Linear Regression gives scores as follows, R^2: 0.7758527517175889 MAE: 95051.92433922343 MSE: 172399.48162078776\n"
     ]
    }
   ],
   "source": [
    "R2_lin, MAE_lin, MSE_lin =regression_results(results4, 'price', LinearRegression())\n",
    "print('Using Linear Regression gives scores as follows, R^2:' ,R2_lin,'MAE:', MAE_lin, 'MSE:',MSE_lin)"
   ]
  },
  {
   "cell_type": "code",
   "execution_count": 51,
   "id": "aa3d1143",
   "metadata": {},
   "outputs": [],
   "source": [
    "#it is a very good improvement having put zipcodes into categoricals "
   ]
  },
  {
   "cell_type": "code",
   "execution_count": 52,
   "id": "73c78005",
   "metadata": {},
   "outputs": [
    {
     "name": "stdout",
     "output_type": "stream",
     "text": [
      "Using KNeighborsRegressor gives scores as follows, R^2: 0.4528234507998311 MAE: 164616.99650205762 MSE: 269359.9283728001\n"
     ]
    }
   ],
   "source": [
    "R2_knn, MAE_knn, MSE_knn =regression_results(results4, 'price', knn)\n",
    "print('Using KNeighborsRegressor gives scores as follows, R^2:',R2_knn, 'MAE:',MAE_knn,'MSE:', MSE_knn)"
   ]
  },
  {
   "cell_type": "code",
   "execution_count": 53,
   "id": "78381011",
   "metadata": {},
   "outputs": [
    {
     "name": "stdout",
     "output_type": "stream",
     "text": [
      "Using MLPRegressor gives scores as follows, R^2: 0.513601308812482 MAE: 166653.36538468843 MSE: 253960.07615063185\n"
     ]
    }
   ],
   "source": [
    "R2_mlp, MAE_mlp, MSE_mlp =regression_results(results4, 'price', regr)\n",
    "print('Using MLPRegressor gives scores as follows, R^2:',R2_mlp, 'MAE:', MAE_mlp, 'MSE:',MSE_mlp)"
   ]
  },
  {
   "cell_type": "markdown",
   "id": "a27f4468",
   "metadata": {},
   "source": [
    "#### Dealing with bedrooms: putting them into categoricals and encoding them, since it might the popularity of them is not linear to number"
   ]
  },
  {
   "cell_type": "code",
   "execution_count": 54,
   "id": "1a350385",
   "metadata": {},
   "outputs": [
    {
     "data": {
      "text/plain": [
       "date              object\n",
       "bedrooms          object\n",
       "bathrooms         object\n",
       "sqft_living        int64\n",
       "sqft_lot           int64\n",
       "floors            object\n",
       "waterfront         int64\n",
       "view               int64\n",
       "condition          int64\n",
       "grade              int64\n",
       "sqft_above         int64\n",
       "sqft_basement      int64\n",
       "yr_built           int64\n",
       "yr_renovated       int64\n",
       "zipcode           object\n",
       "lat              float64\n",
       "long             float64\n",
       "sqft_living15      int64\n",
       "sqft_lot15         int64\n",
       "price              int64\n",
       "dtype: object"
      ]
     },
     "execution_count": 54,
     "metadata": {},
     "output_type": "execute_result"
    }
   ],
   "source": [
    "data1=data.copy()\n",
    "data1[['bedrooms','zipcode']]=data1[['bedrooms','zipcode']].astype(object)\n",
    "data1.dtypes"
   ]
  },
  {
   "cell_type": "code",
   "execution_count": 55,
   "id": "073309ec",
   "metadata": {},
   "outputs": [],
   "source": [
    "results5 = pd.get_dummies(data1, drop_first=True) \n",
    "#results5"
   ]
  },
  {
   "cell_type": "markdown",
   "id": "33d7ce70",
   "metadata": {},
   "source": [
    "#### results with data having put bedrooms into categoricals"
   ]
  },
  {
   "cell_type": "code",
   "execution_count": 56,
   "id": "cbb0e435",
   "metadata": {},
   "outputs": [
    {
     "name": "stdout",
     "output_type": "stream",
     "text": [
      "Using Linear Regression gives scores as follows, R^2: 0.7765172563587202 MAE: 94958.58136237015 MSE: 172143.74507109923\n"
     ]
    }
   ],
   "source": [
    "R2_lin, MAE_lin, MSE_lin =regression_results(results5, 'price', LinearRegression())\n",
    "print('Using Linear Regression gives scores as follows, R^2:' ,R2_lin,'MAE:', MAE_lin, 'MSE:',MSE_lin)"
   ]
  },
  {
   "cell_type": "markdown",
   "id": "2f5db8ad",
   "metadata": {},
   "source": [
    "#### it is a tiny improvement (0.1%), and also the MAE and MSE improved some what: So it will be applied. "
   ]
  },
  {
   "cell_type": "code",
   "execution_count": 58,
   "id": "30043f99",
   "metadata": {},
   "outputs": [
    {
     "name": "stdout",
     "output_type": "stream",
     "text": [
      "Using KNeighborsRegressor gives scores as follows, R^2: 0.45283252861001033 MAE: 164614.4244855967 MSE: 269357.6939857043\n"
     ]
    }
   ],
   "source": [
    "R2_knn, MAE_knn, MSE_knn =regression_results(results5, 'price', knn)\n",
    "print('Using KNeighborsRegressor gives scores as follows, R^2:',R2_knn, 'MAE:',MAE_knn,'MSE:', MSE_knn)"
   ]
  },
  {
   "cell_type": "code",
   "execution_count": 59,
   "id": "7d3aa0f3",
   "metadata": {},
   "outputs": [
    {
     "name": "stdout",
     "output_type": "stream",
     "text": [
      "Using MLPRegressor gives scores as follows, R^2: 0.5094422234896709 MAE: 167915.9998337328 MSE: 255043.5425802474\n"
     ]
    }
   ],
   "source": [
    "R2_mlp, MAE_mlp, MSE_mlp =regression_results(results5, 'price', regr)\n",
    "print('Using MLPRegressor gives scores as follows, R^2:',R2_mlp, 'MAE:', MAE_mlp, 'MSE:',MSE_mlp)"
   ]
  },
  {
   "cell_type": "markdown",
   "id": "71a22b50",
   "metadata": {},
   "source": [
    "#### putting bathrooms into floats"
   ]
  },
  {
   "cell_type": "code",
   "execution_count": 60,
   "id": "90fe05c5",
   "metadata": {},
   "outputs": [],
   "source": [
    "data1=data.copy()\n",
    "results6=obj_to_float(data1,['bathrooms'])"
   ]
  },
  {
   "cell_type": "code",
   "execution_count": 61,
   "id": "c9028ee8",
   "metadata": {},
   "outputs": [],
   "source": [
    "results6 = pd.get_dummies(results5, drop_first=True)"
   ]
  },
  {
   "cell_type": "code",
   "execution_count": 62,
   "id": "d4aac804",
   "metadata": {},
   "outputs": [
    {
     "name": "stdout",
     "output_type": "stream",
     "text": [
      "Using Linear Regression gives scores as follows, R^2: 0.7765172563587202 MAE: 94958.58136237015 MSE: 172143.74507109923\n"
     ]
    }
   ],
   "source": [
    "R2_lin, MAE_lin, MSE_lin =regression_results(results6, 'price', LinearRegression())\n",
    "print('Using Linear Regression gives scores as follows, R^2:' ,R2_lin,'MAE:', MAE_lin, 'MSE:',MSE_lin)"
   ]
  },
  {
   "cell_type": "code",
   "execution_count": null,
   "id": "09d3564f",
   "metadata": {},
   "outputs": [],
   "source": [
    "#the score doesn't get no better no worse"
   ]
  },
  {
   "cell_type": "code",
   "execution_count": 64,
   "id": "eaae1860",
   "metadata": {},
   "outputs": [
    {
     "name": "stdout",
     "output_type": "stream",
     "text": [
      "Using KNeighborsRegressor gives scores as follows, R^2: 0.45283252861001033 MAE: 164614.4244855967 MSE: 269357.6939857043\n"
     ]
    }
   ],
   "source": [
    "R2_knn, MAE_knn, MSE_knn =regression_results(results6, 'price', knn)\n",
    "print('Using KNeighborsRegressor gives scores as follows, R^2:',R2_knn, 'MAE:',MAE_knn,'MSE:', MSE_knn)"
   ]
  },
  {
   "cell_type": "code",
   "execution_count": 65,
   "id": "6c08b815",
   "metadata": {},
   "outputs": [
    {
     "name": "stdout",
     "output_type": "stream",
     "text": [
      "Using MLPRegressor gives scores as follows, R^2: 0.5094422234896709 MAE: 167915.9998337328 MSE: 255043.5425802474\n"
     ]
    }
   ],
   "source": [
    "R2_mlp, MAE_mlp, MSE_mlp =regression_results(results6, 'price', regr)\n",
    "print('Using MLPRegressor gives scores as follows, R^2:',R2_mlp, 'MAE:', MAE_mlp, 'MSE:',MSE_mlp)"
   ]
  },
  {
   "cell_type": "code",
   "execution_count": 66,
   "id": "b833f7c5",
   "metadata": {},
   "outputs": [],
   "source": [
    "#having put bathrooms to categoricals does not effct the score, it will just be kept as floats"
   ]
  },
  {
   "cell_type": "markdown",
   "id": "305dc683",
   "metadata": {},
   "source": [
    "#### putting column ['condition'] to categoricals:"
   ]
  },
  {
   "cell_type": "code",
   "execution_count": 69,
   "id": "11aa8020",
   "metadata": {},
   "outputs": [
    {
     "data": {
      "text/plain": [
       "date              object\n",
       "bedrooms          object\n",
       "bathrooms         object\n",
       "sqft_living        int64\n",
       "sqft_lot           int64\n",
       "floors            object\n",
       "waterfront         int64\n",
       "view               int64\n",
       "condition         object\n",
       "grade              int64\n",
       "sqft_above         int64\n",
       "sqft_basement      int64\n",
       "yr_built           int64\n",
       "yr_renovated       int64\n",
       "zipcode           object\n",
       "lat              float64\n",
       "long             float64\n",
       "sqft_living15      int64\n",
       "sqft_lot15         int64\n",
       "price              int64\n",
       "dtype: object"
      ]
     },
     "execution_count": 69,
     "metadata": {},
     "output_type": "execute_result"
    }
   ],
   "source": [
    "data1=data.copy()\n",
    "data1[['bedrooms','zipcode','condition']]=data1[['bedrooms','zipcode','condition']].astype(object)\n",
    "data1.dtypes"
   ]
  },
  {
   "cell_type": "code",
   "execution_count": 70,
   "id": "3a0f8521",
   "metadata": {},
   "outputs": [],
   "source": [
    "results7 = pd.get_dummies(data1, drop_first=True) "
   ]
  },
  {
   "cell_type": "code",
   "execution_count": 71,
   "id": "2e84ff49",
   "metadata": {},
   "outputs": [
    {
     "name": "stdout",
     "output_type": "stream",
     "text": [
      "Using Linear Regression gives scores as follows, R^2: 0.7766867122302705 MAE: 95061.32819492364 MSE: 172078.46866617096\n"
     ]
    }
   ],
   "source": [
    "R2_lin, MAE_lin, MSE_lin =regression_results(results7, 'price', LinearRegression())\n",
    "print('Using Linear Regression gives scores as follows, R^2:' ,R2_lin,'MAE:', MAE_lin, 'MSE:',MSE_lin)"
   ]
  },
  {
   "cell_type": "code",
   "execution_count": 72,
   "id": "c2813e7e",
   "metadata": {},
   "outputs": [
    {
     "name": "stdout",
     "output_type": "stream",
     "text": [
      "Using KNeighborsRegressor gives scores as follows, R^2: 0.45282200830734465 MAE: 164628.0561728395 MSE: 269360.28342220536\n"
     ]
    }
   ],
   "source": [
    "R2_knn, MAE_knn, MSE_knn =regression_results(results7, 'price', knn)\n",
    "print('Using KNeighborsRegressor gives scores as follows, R^2:',R2_knn, 'MAE:',MAE_knn,'MSE:', MSE_knn)"
   ]
  },
  {
   "cell_type": "code",
   "execution_count": 73,
   "id": "b50b5a5f",
   "metadata": {},
   "outputs": [
    {
     "name": "stdout",
     "output_type": "stream",
     "text": [
      "Using MLPRegressor gives scores as follows, R^2: 0.5096252297608386 MAE: 168011.70385638188 MSE: 254995.96518586593\n"
     ]
    }
   ],
   "source": [
    "R2_mlp, MAE_mlp, MSE_mlp =regression_results(results7, 'price', regr)\n",
    "print('Using MLPRegressor gives scores as follows, R^2:',R2_mlp, 'MAE:', MAE_mlp, 'MSE:',MSE_mlp)"
   ]
  },
  {
   "cell_type": "markdown",
   "id": "3e78aff2",
   "metadata": {},
   "source": [
    "#### a tiny tiny improvement, 'condition' will be kept as categoricals"
   ]
  },
  {
   "cell_type": "markdown",
   "id": "deffdcd7",
   "metadata": {},
   "source": [
    "### putting 'view' into categoricals"
   ]
  },
  {
   "cell_type": "code",
   "execution_count": 76,
   "id": "bfc4341c",
   "metadata": {},
   "outputs": [],
   "source": [
    "data1=data.copy()\n",
    "data1[['bedrooms','zipcode','condition','view']]=data1[['bedrooms','zipcode','condition','view']].astype(object)"
   ]
  },
  {
   "cell_type": "code",
   "execution_count": 77,
   "id": "d9c09985",
   "metadata": {},
   "outputs": [],
   "source": [
    "results8 = pd.get_dummies(data1, drop_first=True) "
   ]
  },
  {
   "cell_type": "code",
   "execution_count": 78,
   "id": "848f4cf6",
   "metadata": {},
   "outputs": [
    {
     "name": "stdout",
     "output_type": "stream",
     "text": [
      "Using Linear Regression gives scores as follows, R^2: 0.7771778000914349 MAE: 94779.38484154038 MSE: 171889.1557995168\n"
     ]
    }
   ],
   "source": [
    "R2_lin, MAE_lin, MSE_lin =regression_results(results8, 'price', LinearRegression())\n",
    "print('Using Linear Regression gives scores as follows, R^2:' ,R2_lin,'MAE:', MAE_lin, 'MSE:',MSE_lin)"
   ]
  },
  {
   "cell_type": "code",
   "execution_count": 79,
   "id": "f0654baf",
   "metadata": {},
   "outputs": [
    {
     "name": "stdout",
     "output_type": "stream",
     "text": [
      "Using KNeighborsRegressor gives scores as follows, R^2: 0.45282200830734465 MAE: 164628.0561728395 MSE: 269360.28342220536\n"
     ]
    }
   ],
   "source": [
    "R2_knn, MAE_knn, MSE_knn =regression_results(results8, 'price', knn)\n",
    "print('Using KNeighborsRegressor gives scores as follows, R^2:',R2_knn, 'MAE:',MAE_knn,'MSE:', MSE_knn)"
   ]
  },
  {
   "cell_type": "code",
   "execution_count": 80,
   "id": "5f6ef5fb",
   "metadata": {},
   "outputs": [
    {
     "name": "stdout",
     "output_type": "stream",
     "text": [
      "Using MLPRegressor gives scores as follows, R^2: 0.5341702367762291 MAE: 162743.4639974763 MSE: 248532.3157755557\n"
     ]
    }
   ],
   "source": [
    "R2_mlp, MAE_mlp, MSE_mlp =regression_results(results8, 'price', regr)\n",
    "print('Using MLPRegressor gives scores as follows, R^2:',R2_mlp, 'MAE:', MAE_mlp, 'MSE:',MSE_mlp)"
   ]
  },
  {
   "cell_type": "markdown",
   "id": "e5fb95f5",
   "metadata": {},
   "source": [
    "#### improvement, view will be kept as categorical"
   ]
  },
  {
   "cell_type": "markdown",
   "id": "bdc2bc7f",
   "metadata": {},
   "source": [
    "### putting waterfront to categoricals"
   ]
  },
  {
   "cell_type": "code",
   "execution_count": 83,
   "id": "6536ad00",
   "metadata": {},
   "outputs": [],
   "source": [
    "data1=data.copy()\n",
    "data1[['bedrooms','zipcode','condition','view','waterfront']]=data1[['bedrooms','zipcode','condition','view','waterfront']].astype(object)"
   ]
  },
  {
   "cell_type": "code",
   "execution_count": 84,
   "id": "337b2c3b",
   "metadata": {},
   "outputs": [],
   "source": [
    "results9 = pd.get_dummies(data1, drop_first=True) "
   ]
  },
  {
   "cell_type": "code",
   "execution_count": 85,
   "id": "dbb880d2",
   "metadata": {},
   "outputs": [
    {
     "name": "stdout",
     "output_type": "stream",
     "text": [
      "Using Linear Regression gives scores as follows, R^2: 0.7771778000917791 MAE: 94779.3848409976 MSE: 171889.15579938405\n"
     ]
    }
   ],
   "source": [
    "R2_lin, MAE_lin, MSE_lin =regression_results(results9, 'price', LinearRegression())\n",
    "print('Using Linear Regression gives scores as follows, R^2:' ,R2_lin,'MAE:', MAE_lin, 'MSE:',MSE_lin)"
   ]
  },
  {
   "cell_type": "code",
   "execution_count": 86,
   "id": "6c5965f5",
   "metadata": {},
   "outputs": [
    {
     "name": "stdout",
     "output_type": "stream",
     "text": [
      "Using KNeighborsRegressor gives scores as follows, R^2: 0.45282200830734465 MAE: 164628.0561728395 MSE: 269360.28342220536\n"
     ]
    }
   ],
   "source": [
    "R2_knn, MAE_knn, MSE_knn =regression_results(results9, 'price', knn)\n",
    "print('Using KNeighborsRegressor gives scores as follows, R^2:',R2_knn, 'MAE:',MAE_knn,'MSE:', MSE_knn)"
   ]
  },
  {
   "cell_type": "code",
   "execution_count": 87,
   "id": "e582f4a6",
   "metadata": {},
   "outputs": [
    {
     "name": "stdout",
     "output_type": "stream",
     "text": [
      "Using MLPRegressor gives scores as follows, R^2: 0.5075575228963307 MAE: 168784.0721492449 MSE: 255533.00573366956\n"
     ]
    }
   ],
   "source": [
    "R2_mlp, MAE_mlp, MSE_mlp =regression_results(results9, 'price', regr)\n",
    "print('Using MLPRegressor gives scores as follows, R^2:',R2_mlp, 'MAE:', MAE_mlp, 'MSE:',MSE_mlp)"
   ]
  },
  {
   "cell_type": "markdown",
   "id": "f30c398a",
   "metadata": {},
   "source": [
    "### at least the score is not getting worse, it will be kept!"
   ]
  },
  {
   "cell_type": "markdown",
   "id": "6b9e7c8e",
   "metadata": {},
   "source": [
    "### putting date into month and putting it into categoricals,\n",
    "### also dropping column 'date'\n"
   ]
  },
  {
   "cell_type": "code",
   "execution_count": 90,
   "id": "fa844440",
   "metadata": {},
   "outputs": [],
   "source": [
    "data1=data.copy()\n",
    "date_number=[]\n",
    "for i in data1['date']:\n",
    "    date_number.append(int(pd.to_datetime(i, format='%m/%d/%Y').strftime('%m')))\n",
    "data1['date_month']=date_number\n",
    "\n",
    "#data1=data1.drop(['date'], axis=1)"
   ]
  },
  {
   "cell_type": "code",
   "execution_count": 91,
   "id": "fa7fb9fc",
   "metadata": {},
   "outputs": [],
   "source": [
    "date_number=[]\n",
    "for i in data1['date']:\n",
    "    date_number.append(int(pd.to_datetime(i, format='%m/%d/%Y').strftime('%Y%m%d')))\n",
    "data1['date_number']=date_number"
   ]
  },
  {
   "cell_type": "code",
   "execution_count": 92,
   "id": "25416857",
   "metadata": {},
   "outputs": [],
   "source": [
    "data1=data1.drop(['date'],axis=1)"
   ]
  },
  {
   "cell_type": "code",
   "execution_count": 93,
   "id": "a752194a",
   "metadata": {},
   "outputs": [],
   "source": [
    "data1[['bedrooms','zipcode','condition','view','date_month']]=data1[['bedrooms','zipcode','condition','view','date_month']].astype(object)"
   ]
  },
  {
   "cell_type": "code",
   "execution_count": 94,
   "id": "25e491b6",
   "metadata": {},
   "outputs": [],
   "source": [
    "results10 = pd.get_dummies(data1, drop_first=True) "
   ]
  },
  {
   "cell_type": "code",
   "execution_count": 95,
   "id": "9d19d2f1",
   "metadata": {},
   "outputs": [
    {
     "name": "stdout",
     "output_type": "stream",
     "text": [
      "Using Linear Regression gives scores as follows, R^2: 0.7839155718811962 MAE: 92515.85232559424 MSE: 169270.38630076064\n"
     ]
    }
   ],
   "source": [
    "R2_lin, MAE_lin, MSE_lin =regression_results(results10, 'price', LinearRegression())\n",
    "print('Using Linear Regression gives scores as follows, R^2:' ,R2_lin,'MAE:', MAE_lin, 'MSE:',MSE_lin)"
   ]
  },
  {
   "cell_type": "code",
   "execution_count": 96,
   "id": "74bd7ade",
   "metadata": {},
   "outputs": [
    {
     "name": "stdout",
     "output_type": "stream",
     "text": [
      "Using KNeighborsRegressor gives scores as follows, R^2: 0.4337189489476976 MAE: 167201.2837962963 MSE: 274021.8944734464\n"
     ]
    }
   ],
   "source": [
    "R2_knn, MAE_knn, MSE_knn =regression_results(results10, 'price', knn)\n",
    "print('Using KNeighborsRegressor gives scores as follows, R^2:',R2_knn, 'MAE:',MAE_knn,'MSE:', MSE_knn)"
   ]
  },
  {
   "cell_type": "code",
   "execution_count": 97,
   "id": "b36a1aac",
   "metadata": {},
   "outputs": [
    {
     "name": "stdout",
     "output_type": "stream",
     "text": [
      "Using MLPRegressor gives scores as follows, R^2: 0.49788977707613025 MAE: 171579.63941116782 MSE: 258029.15587967183\n"
     ]
    }
   ],
   "source": [
    "R2_mlp, MAE_mlp, MSE_mlp =regression_results(results10, 'price', regr)\n",
    "print('Using MLPRegressor gives scores as follows, R^2:',R2_mlp, 'MAE:', MAE_mlp, 'MSE:',MSE_mlp)"
   ]
  },
  {
   "cell_type": "markdown",
   "id": "25d90b1c",
   "metadata": {},
   "source": [
    "#### it is a little improvement, it will be applied this way."
   ]
  },
  {
   "cell_type": "markdown",
   "id": "b6635b12",
   "metadata": {},
   "source": [
    "### Now working with the last dataframe (results10) and normalize the data and remove outlieres from target"
   ]
  },
  {
   "cell_type": "code",
   "execution_count": 98,
   "id": "e0134164",
   "metadata": {},
   "outputs": [],
   "source": [
    "def normalize(df, non_col=[]):\n",
    "    result = df.copy()\n",
    "    for feature_name in df.select_dtypes(np.number).columns:\n",
    "        if feature_name not in non_col :\n",
    "            max_value = df[feature_name].max()\n",
    "            min_value = df[feature_name].min()\n",
    "            result[feature_name] = (df[feature_name] - min_value) / (max_value - min_value)\n",
    "            \n",
    "        else:\n",
    "            continue\n",
    "    return result"
   ]
  },
  {
   "cell_type": "code",
   "execution_count": 107,
   "id": "63bb43fd",
   "metadata": {},
   "outputs": [],
   "source": [
    "data_norm=normalize(results10,non_col=['price'])\n",
    "data_norm=data_norm.drop(['lat','long'], axis=1)\n"
   ]
  },
  {
   "cell_type": "code",
   "execution_count": 111,
   "id": "280a8ada",
   "metadata": {},
   "outputs": [
    {
     "data": {
      "text/plain": [
       "id\n",
       "7129300520    221900\n",
       "6414100192    538000\n",
       "5631500400    180000\n",
       "2487200875    604000\n",
       "1954400510    510000\n",
       "               ...  \n",
       "263000018     360000\n",
       "6600060120    400000\n",
       "1523300141    402101\n",
       "291310100     400000\n",
       "1523300157    325000\n",
       "Name: price, Length: 21597, dtype: int64"
      ]
     },
     "execution_count": 111,
     "metadata": {},
     "output_type": "execute_result"
    }
   ],
   "source": [
    "#data_norm['price']"
   ]
  },
  {
   "cell_type": "code",
   "execution_count": 101,
   "id": "8321ada5",
   "metadata": {},
   "outputs": [],
   "source": [
    "#for feature_name in results4.select_dtypes(np.number).columns:\n",
    " #   if feature_name != 'price' :\n",
    "  #      max_value = results4[feature_name].max()\n",
    "   #     min_value = results4[feature_name].min()\n",
    "     #   results4[feature_name] = (results4[feature_name] - min_value) / (max_value - min_value)\n",
    "    #else:\n",
    "      #  continue\n",
    "#results4"
   ]
  },
  {
   "cell_type": "code",
   "execution_count": 112,
   "id": "15e0ed6f",
   "metadata": {},
   "outputs": [
    {
     "name": "stdout",
     "output_type": "stream",
     "text": [
      "Using Linear Regression gives scores as follows, R^2: 0.7838287508109482 MAE: 92485.15902499293 MSE: 169304.3886588101\n"
     ]
    }
   ],
   "source": [
    "R2_lin, MAE_lin, MSE_lin =regression_results(data_norm, 'price', LinearRegression())\n",
    "print('Using Linear Regression gives scores as follows, R^2:' ,R2_lin,'MAE:', MAE_lin, 'MSE:',MSE_lin)"
   ]
  },
  {
   "cell_type": "code",
   "execution_count": 113,
   "id": "b84c228f",
   "metadata": {},
   "outputs": [
    {
     "name": "stdout",
     "output_type": "stream",
     "text": [
      "Using KNeighborsRegressor gives scores as follows, R^2: 0.45131883009539986 MAE: 142399.04418724278 MSE: 269730.0157754113\n"
     ]
    }
   ],
   "source": [
    "R2_knn, MAE_knn, MSE_knn =regression_results(data_norm, 'price', knn)\n",
    "print('Using KNeighborsRegressor gives scores as follows, R^2:',R2_knn, 'MAE:',MAE_knn,'MSE:', MSE_knn)"
   ]
  },
  {
   "cell_type": "code",
   "execution_count": 114,
   "id": "b3f2ab21",
   "metadata": {},
   "outputs": [
    {
     "name": "stdout",
     "output_type": "stream",
     "text": [
      "Using MLPRegressor gives scores as follows, R^2: 0.29791254653446086 MAE: 183620.21932496506 MSE: 305115.91120971966\n"
     ]
    }
   ],
   "source": [
    "R2_mlp, MAE_mlp, MSE_mlp =regression_results(data_norm, 'price', regr)\n",
    "print('Using MLPRegressor gives scores as follows, R^2:',R2_mlp, 'MAE:', MAE_mlp, 'MSE:',MSE_mlp)"
   ]
  },
  {
   "cell_type": "markdown",
   "id": "852d2e2d",
   "metadata": {},
   "source": [
    "### Remove outliers in the target 'price':"
   ]
  },
  {
   "cell_type": "code",
   "execution_count": 115,
   "id": "3ec670ac",
   "metadata": {},
   "outputs": [],
   "source": [
    "def remove_outliers_target(df,threshold, target):\n",
    "    upper = np.percentile(df[target],75)\n",
    "    lower = np.percentile(df[target],25)\n",
    "    iqr = upper - lower\n",
    "    upper_limit = upper + threshold * iqr\n",
    "    lower_limit = lower - threshold * iqr\n",
    "    df = df[(df[target]>lower_limit) & (df[target]<upper_limit)]\n",
    "    return df"
   ]
  },
  {
   "cell_type": "code",
   "execution_count": 118,
   "id": "2408ed13",
   "metadata": {},
   "outputs": [
    {
     "data": {
      "text/html": [
       "<div>\n",
       "<style scoped>\n",
       "    .dataframe tbody tr th:only-of-type {\n",
       "        vertical-align: middle;\n",
       "    }\n",
       "\n",
       "    .dataframe tbody tr th {\n",
       "        vertical-align: top;\n",
       "    }\n",
       "\n",
       "    .dataframe thead th {\n",
       "        text-align: right;\n",
       "    }\n",
       "</style>\n",
       "<table border=\"1\" class=\"dataframe\">\n",
       "  <thead>\n",
       "    <tr style=\"text-align: right;\">\n",
       "      <th></th>\n",
       "      <th>sqft_living</th>\n",
       "      <th>sqft_lot</th>\n",
       "      <th>waterfront</th>\n",
       "      <th>grade</th>\n",
       "      <th>sqft_above</th>\n",
       "      <th>sqft_basement</th>\n",
       "      <th>yr_built</th>\n",
       "      <th>yr_renovated</th>\n",
       "      <th>sqft_living15</th>\n",
       "      <th>sqft_lot15</th>\n",
       "      <th>...</th>\n",
       "      <th>date_month_3</th>\n",
       "      <th>date_month_4</th>\n",
       "      <th>date_month_5</th>\n",
       "      <th>date_month_6</th>\n",
       "      <th>date_month_7</th>\n",
       "      <th>date_month_8</th>\n",
       "      <th>date_month_9</th>\n",
       "      <th>date_month_10</th>\n",
       "      <th>date_month_11</th>\n",
       "      <th>date_month_12</th>\n",
       "    </tr>\n",
       "    <tr>\n",
       "      <th>id</th>\n",
       "      <th></th>\n",
       "      <th></th>\n",
       "      <th></th>\n",
       "      <th></th>\n",
       "      <th></th>\n",
       "      <th></th>\n",
       "      <th></th>\n",
       "      <th></th>\n",
       "      <th></th>\n",
       "      <th></th>\n",
       "      <th></th>\n",
       "      <th></th>\n",
       "      <th></th>\n",
       "      <th></th>\n",
       "      <th></th>\n",
       "      <th></th>\n",
       "      <th></th>\n",
       "      <th></th>\n",
       "      <th></th>\n",
       "      <th></th>\n",
       "      <th></th>\n",
       "    </tr>\n",
       "  </thead>\n",
       "  <tbody>\n",
       "    <tr>\n",
       "      <th>7129300520</th>\n",
       "      <td>0.061503</td>\n",
       "      <td>0.003108</td>\n",
       "      <td>0.0</td>\n",
       "      <td>0.4</td>\n",
       "      <td>0.089602</td>\n",
       "      <td>0.000000</td>\n",
       "      <td>0.478261</td>\n",
       "      <td>0.000000</td>\n",
       "      <td>0.161934</td>\n",
       "      <td>0.005742</td>\n",
       "      <td>...</td>\n",
       "      <td>0.0</td>\n",
       "      <td>0.0</td>\n",
       "      <td>0.0</td>\n",
       "      <td>0.0</td>\n",
       "      <td>0.0</td>\n",
       "      <td>0.0</td>\n",
       "      <td>0.0</td>\n",
       "      <td>1.0</td>\n",
       "      <td>0.0</td>\n",
       "      <td>0.0</td>\n",
       "    </tr>\n",
       "    <tr>\n",
       "      <th>6414100192</th>\n",
       "      <td>0.167046</td>\n",
       "      <td>0.004072</td>\n",
       "      <td>0.0</td>\n",
       "      <td>0.4</td>\n",
       "      <td>0.199115</td>\n",
       "      <td>0.082988</td>\n",
       "      <td>0.443478</td>\n",
       "      <td>0.988089</td>\n",
       "      <td>0.222165</td>\n",
       "      <td>0.008027</td>\n",
       "      <td>...</td>\n",
       "      <td>0.0</td>\n",
       "      <td>0.0</td>\n",
       "      <td>0.0</td>\n",
       "      <td>0.0</td>\n",
       "      <td>0.0</td>\n",
       "      <td>0.0</td>\n",
       "      <td>0.0</td>\n",
       "      <td>0.0</td>\n",
       "      <td>0.0</td>\n",
       "      <td>1.0</td>\n",
       "    </tr>\n",
       "    <tr>\n",
       "      <th>5631500400</th>\n",
       "      <td>0.030372</td>\n",
       "      <td>0.005743</td>\n",
       "      <td>0.0</td>\n",
       "      <td>0.3</td>\n",
       "      <td>0.044248</td>\n",
       "      <td>0.000000</td>\n",
       "      <td>0.286957</td>\n",
       "      <td>0.000000</td>\n",
       "      <td>0.399415</td>\n",
       "      <td>0.008513</td>\n",
       "      <td>...</td>\n",
       "      <td>0.0</td>\n",
       "      <td>0.0</td>\n",
       "      <td>0.0</td>\n",
       "      <td>0.0</td>\n",
       "      <td>0.0</td>\n",
       "      <td>0.0</td>\n",
       "      <td>0.0</td>\n",
       "      <td>0.0</td>\n",
       "      <td>0.0</td>\n",
       "      <td>0.0</td>\n",
       "    </tr>\n",
       "    <tr>\n",
       "      <th>2487200875</th>\n",
       "      <td>0.120729</td>\n",
       "      <td>0.002714</td>\n",
       "      <td>0.0</td>\n",
       "      <td>0.4</td>\n",
       "      <td>0.075221</td>\n",
       "      <td>0.188797</td>\n",
       "      <td>0.565217</td>\n",
       "      <td>0.000000</td>\n",
       "      <td>0.165376</td>\n",
       "      <td>0.004996</td>\n",
       "      <td>...</td>\n",
       "      <td>0.0</td>\n",
       "      <td>0.0</td>\n",
       "      <td>0.0</td>\n",
       "      <td>0.0</td>\n",
       "      <td>0.0</td>\n",
       "      <td>0.0</td>\n",
       "      <td>0.0</td>\n",
       "      <td>0.0</td>\n",
       "      <td>0.0</td>\n",
       "      <td>1.0</td>\n",
       "    </tr>\n",
       "    <tr>\n",
       "      <th>1954400510</th>\n",
       "      <td>0.099468</td>\n",
       "      <td>0.004579</td>\n",
       "      <td>0.0</td>\n",
       "      <td>0.5</td>\n",
       "      <td>0.144912</td>\n",
       "      <td>0.000000</td>\n",
       "      <td>0.756522</td>\n",
       "      <td>0.000000</td>\n",
       "      <td>0.241094</td>\n",
       "      <td>0.007871</td>\n",
       "      <td>...</td>\n",
       "      <td>0.0</td>\n",
       "      <td>0.0</td>\n",
       "      <td>0.0</td>\n",
       "      <td>0.0</td>\n",
       "      <td>0.0</td>\n",
       "      <td>0.0</td>\n",
       "      <td>0.0</td>\n",
       "      <td>0.0</td>\n",
       "      <td>0.0</td>\n",
       "      <td>0.0</td>\n",
       "    </tr>\n",
       "    <tr>\n",
       "      <th>...</th>\n",
       "      <td>...</td>\n",
       "      <td>...</td>\n",
       "      <td>...</td>\n",
       "      <td>...</td>\n",
       "      <td>...</td>\n",
       "      <td>...</td>\n",
       "      <td>...</td>\n",
       "      <td>...</td>\n",
       "      <td>...</td>\n",
       "      <td>...</td>\n",
       "      <td>...</td>\n",
       "      <td>...</td>\n",
       "      <td>...</td>\n",
       "      <td>...</td>\n",
       "      <td>...</td>\n",
       "      <td>...</td>\n",
       "      <td>...</td>\n",
       "      <td>...</td>\n",
       "      <td>...</td>\n",
       "      <td>...</td>\n",
       "      <td>...</td>\n",
       "    </tr>\n",
       "    <tr>\n",
       "      <th>263000018</th>\n",
       "      <td>0.088079</td>\n",
       "      <td>0.000370</td>\n",
       "      <td>0.0</td>\n",
       "      <td>0.5</td>\n",
       "      <td>0.128319</td>\n",
       "      <td>0.000000</td>\n",
       "      <td>0.947826</td>\n",
       "      <td>0.000000</td>\n",
       "      <td>0.194631</td>\n",
       "      <td>0.000986</td>\n",
       "      <td>...</td>\n",
       "      <td>0.0</td>\n",
       "      <td>0.0</td>\n",
       "      <td>1.0</td>\n",
       "      <td>0.0</td>\n",
       "      <td>0.0</td>\n",
       "      <td>0.0</td>\n",
       "      <td>0.0</td>\n",
       "      <td>0.0</td>\n",
       "      <td>0.0</td>\n",
       "      <td>0.0</td>\n",
       "    </tr>\n",
       "    <tr>\n",
       "      <th>6600060120</th>\n",
       "      <td>0.147304</td>\n",
       "      <td>0.003206</td>\n",
       "      <td>0.0</td>\n",
       "      <td>0.5</td>\n",
       "      <td>0.214602</td>\n",
       "      <td>0.000000</td>\n",
       "      <td>0.991304</td>\n",
       "      <td>0.000000</td>\n",
       "      <td>0.246257</td>\n",
       "      <td>0.007523</td>\n",
       "      <td>...</td>\n",
       "      <td>0.0</td>\n",
       "      <td>0.0</td>\n",
       "      <td>0.0</td>\n",
       "      <td>0.0</td>\n",
       "      <td>0.0</td>\n",
       "      <td>0.0</td>\n",
       "      <td>0.0</td>\n",
       "      <td>0.0</td>\n",
       "      <td>0.0</td>\n",
       "      <td>0.0</td>\n",
       "    </tr>\n",
       "    <tr>\n",
       "      <th>1523300141</th>\n",
       "      <td>0.049355</td>\n",
       "      <td>0.000503</td>\n",
       "      <td>0.0</td>\n",
       "      <td>0.4</td>\n",
       "      <td>0.071903</td>\n",
       "      <td>0.000000</td>\n",
       "      <td>0.947826</td>\n",
       "      <td>0.000000</td>\n",
       "      <td>0.106866</td>\n",
       "      <td>0.001558</td>\n",
       "      <td>...</td>\n",
       "      <td>0.0</td>\n",
       "      <td>0.0</td>\n",
       "      <td>0.0</td>\n",
       "      <td>1.0</td>\n",
       "      <td>0.0</td>\n",
       "      <td>0.0</td>\n",
       "      <td>0.0</td>\n",
       "      <td>0.0</td>\n",
       "      <td>0.0</td>\n",
       "      <td>0.0</td>\n",
       "    </tr>\n",
       "    <tr>\n",
       "      <th>291310100</th>\n",
       "      <td>0.093394</td>\n",
       "      <td>0.001132</td>\n",
       "      <td>0.0</td>\n",
       "      <td>0.5</td>\n",
       "      <td>0.136062</td>\n",
       "      <td>0.000000</td>\n",
       "      <td>0.904348</td>\n",
       "      <td>0.000000</td>\n",
       "      <td>0.173980</td>\n",
       "      <td>0.000731</td>\n",
       "      <td>...</td>\n",
       "      <td>0.0</td>\n",
       "      <td>0.0</td>\n",
       "      <td>0.0</td>\n",
       "      <td>0.0</td>\n",
       "      <td>0.0</td>\n",
       "      <td>0.0</td>\n",
       "      <td>0.0</td>\n",
       "      <td>0.0</td>\n",
       "      <td>0.0</td>\n",
       "      <td>0.0</td>\n",
       "    </tr>\n",
       "    <tr>\n",
       "      <th>1523300157</th>\n",
       "      <td>0.049355</td>\n",
       "      <td>0.000337</td>\n",
       "      <td>0.0</td>\n",
       "      <td>0.4</td>\n",
       "      <td>0.071903</td>\n",
       "      <td>0.000000</td>\n",
       "      <td>0.939130</td>\n",
       "      <td>0.000000</td>\n",
       "      <td>0.106866</td>\n",
       "      <td>0.000811</td>\n",
       "      <td>...</td>\n",
       "      <td>0.0</td>\n",
       "      <td>0.0</td>\n",
       "      <td>0.0</td>\n",
       "      <td>0.0</td>\n",
       "      <td>0.0</td>\n",
       "      <td>0.0</td>\n",
       "      <td>0.0</td>\n",
       "      <td>1.0</td>\n",
       "      <td>0.0</td>\n",
       "      <td>0.0</td>\n",
       "    </tr>\n",
       "  </tbody>\n",
       "</table>\n",
       "<p>20439 rows × 144 columns</p>\n",
       "</div>"
      ],
      "text/plain": [
       "            sqft_living  sqft_lot  waterfront  grade  sqft_above  \\\n",
       "id                                                                 \n",
       "7129300520     0.061503  0.003108         0.0    0.4    0.089602   \n",
       "6414100192     0.167046  0.004072         0.0    0.4    0.199115   \n",
       "5631500400     0.030372  0.005743         0.0    0.3    0.044248   \n",
       "2487200875     0.120729  0.002714         0.0    0.4    0.075221   \n",
       "1954400510     0.099468  0.004579         0.0    0.5    0.144912   \n",
       "...                 ...       ...         ...    ...         ...   \n",
       "263000018      0.088079  0.000370         0.0    0.5    0.128319   \n",
       "6600060120     0.147304  0.003206         0.0    0.5    0.214602   \n",
       "1523300141     0.049355  0.000503         0.0    0.4    0.071903   \n",
       "291310100      0.093394  0.001132         0.0    0.5    0.136062   \n",
       "1523300157     0.049355  0.000337         0.0    0.4    0.071903   \n",
       "\n",
       "            sqft_basement  yr_built  yr_renovated  sqft_living15  sqft_lot15  \\\n",
       "id                                                                             \n",
       "7129300520       0.000000  0.478261      0.000000       0.161934    0.005742   \n",
       "6414100192       0.082988  0.443478      0.988089       0.222165    0.008027   \n",
       "5631500400       0.000000  0.286957      0.000000       0.399415    0.008513   \n",
       "2487200875       0.188797  0.565217      0.000000       0.165376    0.004996   \n",
       "1954400510       0.000000  0.756522      0.000000       0.241094    0.007871   \n",
       "...                   ...       ...           ...            ...         ...   \n",
       "263000018        0.000000  0.947826      0.000000       0.194631    0.000986   \n",
       "6600060120       0.000000  0.991304      0.000000       0.246257    0.007523   \n",
       "1523300141       0.000000  0.947826      0.000000       0.106866    0.001558   \n",
       "291310100        0.000000  0.904348      0.000000       0.173980    0.000731   \n",
       "1523300157       0.000000  0.939130      0.000000       0.106866    0.000811   \n",
       "\n",
       "            ...  date_month_3  date_month_4  date_month_5  date_month_6  \\\n",
       "id          ...                                                           \n",
       "7129300520  ...           0.0           0.0           0.0           0.0   \n",
       "6414100192  ...           0.0           0.0           0.0           0.0   \n",
       "5631500400  ...           0.0           0.0           0.0           0.0   \n",
       "2487200875  ...           0.0           0.0           0.0           0.0   \n",
       "1954400510  ...           0.0           0.0           0.0           0.0   \n",
       "...         ...           ...           ...           ...           ...   \n",
       "263000018   ...           0.0           0.0           1.0           0.0   \n",
       "6600060120  ...           0.0           0.0           0.0           0.0   \n",
       "1523300141  ...           0.0           0.0           0.0           1.0   \n",
       "291310100   ...           0.0           0.0           0.0           0.0   \n",
       "1523300157  ...           0.0           0.0           0.0           0.0   \n",
       "\n",
       "            date_month_7  date_month_8  date_month_9  date_month_10  \\\n",
       "id                                                                    \n",
       "7129300520           0.0           0.0           0.0            1.0   \n",
       "6414100192           0.0           0.0           0.0            0.0   \n",
       "5631500400           0.0           0.0           0.0            0.0   \n",
       "2487200875           0.0           0.0           0.0            0.0   \n",
       "1954400510           0.0           0.0           0.0            0.0   \n",
       "...                  ...           ...           ...            ...   \n",
       "263000018            0.0           0.0           0.0            0.0   \n",
       "6600060120           0.0           0.0           0.0            0.0   \n",
       "1523300141           0.0           0.0           0.0            0.0   \n",
       "291310100            0.0           0.0           0.0            0.0   \n",
       "1523300157           0.0           0.0           0.0            1.0   \n",
       "\n",
       "            date_month_11  date_month_12  \n",
       "id                                        \n",
       "7129300520            0.0            0.0  \n",
       "6414100192            0.0            1.0  \n",
       "5631500400            0.0            0.0  \n",
       "2487200875            0.0            1.0  \n",
       "1954400510            0.0            0.0  \n",
       "...                   ...            ...  \n",
       "263000018             0.0            0.0  \n",
       "6600060120            0.0            0.0  \n",
       "1523300141            0.0            0.0  \n",
       "291310100             0.0            0.0  \n",
       "1523300157            0.0            0.0  \n",
       "\n",
       "[20439 rows x 144 columns]"
      ]
     },
     "execution_count": 118,
     "metadata": {},
     "output_type": "execute_result"
    }
   ],
   "source": [
    "data_ro=remove_outliers_target(data_norm, 1.5,  'price')\n",
    "data_ro"
   ]
  },
  {
   "cell_type": "code",
   "execution_count": 119,
   "id": "fb795090",
   "metadata": {},
   "outputs": [
    {
     "name": "stdout",
     "output_type": "stream",
     "text": [
      "Using Linear Regression gives scores as follows, R^2: 0.8403652192068627 MAE: 61073.24191192281 MSE: 82200.01293770211\n"
     ]
    }
   ],
   "source": [
    "R2_lin, MAE_lin, MSE_lin =regression_results(data_ro, 'price', LinearRegression())\n",
    "print('Using Linear Regression gives scores as follows, R^2:' ,R2_lin,'MAE:', MAE_lin, 'MSE:',MSE_lin)"
   ]
  },
  {
   "cell_type": "code",
   "execution_count": 120,
   "id": "99f7088a",
   "metadata": {},
   "outputs": [
    {
     "name": "stdout",
     "output_type": "stream",
     "text": [
      "Using KNeighborsRegressor gives scores as follows, R^2: 0.4306393443102601 MAE: 112104.107469015 MSE: 155239.36308903582\n"
     ]
    }
   ],
   "source": [
    "R2_knn, MAE_knn, MSE_knn =regression_results(data_ro, 'price', knn)\n",
    "print('Using KNeighborsRegressor gives scores as follows, R^2:',R2_knn, 'MAE:',MAE_knn,'MSE:', MSE_knn)"
   ]
  },
  {
   "cell_type": "code",
   "execution_count": 121,
   "id": "ff27c84d",
   "metadata": {},
   "outputs": [
    {
     "name": "stdout",
     "output_type": "stream",
     "text": [
      "Using MLPRegressor gives scores as follows, R^2: 0.37938267194210407 MAE: 130862.62787356593 MSE: 162076.5092356239\n"
     ]
    }
   ],
   "source": [
    "R2_mlp, MAE_mlp, MSE_mlp =regression_results(data_ro, 'price', regr)\n",
    "print('Using MLPRegressor gives scores as follows, R^2:',R2_mlp, 'MAE:', MAE_mlp, 'MSE:',MSE_mlp)"
   ]
  },
  {
   "cell_type": "code",
   "execution_count": 150,
   "id": "5a4a824f",
   "metadata": {},
   "outputs": [
    {
     "data": {
      "image/png": "[encoded data removed]",
      "text/plain": [
       "<Figure size 432x288 with 1 Axes>"
      ]
     },
     "metadata": {
      "needs_background": "light"
     },
     "output_type": "display_data"
    },
    {
     "data": {
      "text/plain": [
       "<Figure size 432x288 with 0 Axes>"
      ]
     },
     "metadata": {},
     "output_type": "display_data"
    }
   ],
   "source": [
    "pred, true =predictions(data_ro, 'price', LinearRegression())\n",
    "\n",
    "fig= sns.regplot(true, pred)\n",
    "plt.xlabel(\"true price [$]\")\n",
    "plt.ylabel(\"predicted price [$]\")\n",
    "plt.title(\"true values against predictions\")\n",
    "plt.show(fig)\n",
    "#plt.savefig(\"best_result_pred_trues.png\")"
   ]
  },
  {
   "cell_type": "markdown",
   "id": "b8ffbfb6",
   "metadata": {},
   "source": [
    "## These are the best results:\n",
    "## having put 'bedrooms','zipcode','condition','view','date_month' into categoricals\n",
    "## droping columns 'date' , 'lat' , 'long'\n",
    "## Having Normalized data, having removed outliers from the 'price' values\n",
    "## Using Linear Regression gives scores as follows:\n",
    "## R^2: 0.84 MAE: 61073 MSE: 82200\n"
   ]
  },
  {
   "cell_type": "markdown",
   "id": "88881d77",
   "metadata": {},
   "source": [
    "### +  attempt of a simple filter tool, in order to filter out the houses aiming prices above 650000$\n",
    "### Filtering on two parameters,which have the most highest correlation with the price value \n",
    "#### First round only data grade >= 8 and sqft_living >= 890\n",
    "#### the used data is 'results10', because the data needs to be unnormalized, so the grade can be choosen."
   ]
  },
  {
   "cell_type": "code",
   "execution_count": 124,
   "id": "5df356e4",
   "metadata": {},
   "outputs": [],
   "source": [
    "data_filter=results10.copy()\n",
    "\n",
    "#data_filter_2=data_filter.copy()\n",
    "indexNames= data_filter.index[data_filter['grade'] <8].tolist()\n",
    "data_filter=data_filter.drop(indexNames)\n",
    "\n",
    "indexNames= data_filter.index[data_filter['sqft_living'] <890].tolist()\n",
    "data_filter=data_filter.drop(indexNames)\n",
    "\n",
    "#group_data=data.groupby(['Zipcode'], sort=False)['Price'].max()\n",
    "#Zipcode_list=(goup_data[goup_data<650000])\n",
    "\n",
    "#indexNames_3= data_filter_2.index[data_filter_2['Zipcode'].isin(Zipcode_list)]].tolist()"
   ]
  },
  {
   "cell_type": "code",
   "execution_count": 125,
   "id": "24ef0de6",
   "metadata": {},
   "outputs": [
    {
     "data": {
      "text/plain": [
       "5772"
      ]
     },
     "execution_count": 125,
     "metadata": {},
     "output_type": "execute_result"
    }
   ],
   "source": [
    "dataUnder650k=[]\n",
    "for i in range (0, len(data_filter['price'])):\n",
    "    if data_filter['price'].iloc[i]<= 650000:\n",
    "        dataUnder650k.append(data_filter['price'].iloc[i])\n",
    "    else:\n",
    "        continue\n",
    "len(dataUnder650k)\n",
    "#number houses below 650000 $ in the filtered dataset"
   ]
  },
  {
   "cell_type": "code",
   "execution_count": 126,
   "id": "c67807eb",
   "metadata": {},
   "outputs": [
    {
     "data": {
      "text/plain": [
       "4530"
      ]
     },
     "execution_count": 126,
     "metadata": {},
     "output_type": "execute_result"
    }
   ],
   "source": [
    "dataHigher650k=[]\n",
    "for i in range (0, len(data_filter['price'])):\n",
    "    if data_filter['price'].iloc[i]> 650000:\n",
    "        dataHigher650k.append(data_filter['price'].iloc[i])\n",
    "    else:\n",
    "        continue\n",
    "len(dataHigher650k)\n",
    "# number houses above 650000 $ in filtered data:"
   ]
  },
  {
   "cell_type": "code",
   "execution_count": 127,
   "id": "62f6a785",
   "metadata": {},
   "outputs": [
    {
     "data": {
      "text/plain": [
       "5205"
      ]
     },
     "execution_count": 127,
     "metadata": {},
     "output_type": "execute_result"
    }
   ],
   "source": [
    "dataUnfilteredHigher650k=[]\n",
    "for i in range (0, len(data['price'])):\n",
    "    if data['price'].iloc[i]> 650000:\n",
    "        dataUnfilteredHigher650k.append(data['price'].iloc[i])\n",
    "    else:\n",
    "        continue\n",
    "len(dataUnfilteredHigher650k)\n",
    "#number houses higher 650000 $ in original data set"
   ]
  },
  {
   "cell_type": "code",
   "execution_count": 128,
   "id": "068db7ed",
   "metadata": {},
   "outputs": [
    {
     "data": {
      "text/plain": [
       "1.2741721854304635"
      ]
     },
     "execution_count": 128,
     "metadata": {},
     "output_type": "execute_result"
    }
   ],
   "source": [
    "# compare ration of (filtered data < 650k$)/ (total filtered data > 650k$)\n",
    "len(dataUnder650k)/len(dataHigher650k)\n",
    "#ration houses below 650k/ houses above 650k"
   ]
  },
  {
   "cell_type": "code",
   "execution_count": 129,
   "id": "e9d14398",
   "metadata": {},
   "outputs": [
    {
     "data": {
      "text/plain": [
       "0.8703170028818443"
      ]
     },
     "execution_count": 129,
     "metadata": {},
     "output_type": "execute_result"
    }
   ],
   "source": [
    "#ratio filtered higher 650k/ unfiltered higher 650k\n",
    "len(dataHigher650k)/len(dataUnfilteredHigher650k)\n",
    "# only 87% of the houses having prices higher then 650000$ are kept in the filtered data \n",
    "#from the original data."
   ]
  },
  {
   "cell_type": "code",
   "execution_count": 133,
   "id": "b7fc5f58",
   "metadata": {},
   "outputs": [
    {
     "name": "stdout",
     "output_type": "stream",
     "text": [
      "Using Linear Regression gives scores as follows, R^2: 0.7698716403558125 MAE: 119654.75581682406 MSE: 225807.4969142798\n"
     ]
    }
   ],
   "source": [
    "R2_lin, MAE_lin, MSE_lin =regression_results(data_filter, 'price', LinearRegression())\n",
    "print('Using Linear Regression gives scores as follows, R^2:' ,R2_lin,'MAE:', MAE_lin, 'MSE:',MSE_lin)\n",
    "# the R^2 is in the range of the score for the rsults 10 of the whole data set, but the MAE\n",
    "#is worse. Normalization of the results and removing outliers does not work out, because I get\n",
    "# in some columns Null values. Which needs to be fixed first..."
   ]
  },
  {
   "cell_type": "code",
   "execution_count": 134,
   "id": "f44ca8a7",
   "metadata": {},
   "outputs": [
    {
     "data": {
      "image/png": "[encoded data removed]",
      "text/plain": [
       "<Figure size 432x288 with 1 Axes>"
      ]
     },
     "metadata": {
      "needs_background": "light"
     },
     "output_type": "display_data"
    }
   ],
   "source": [
    "pred, true =predictions(data_filter, 'price', LinearRegression())\n",
    "\n",
    "fig= sns.regplot(true, pred)\n",
    "plt.xlabel(\"true price [$]\")\n",
    "plt.ylabel(\"predicted price [$]\")\n",
    "plt.title(\"true values against predictions\")\n",
    "plt.show(fig)"
   ]
  },
  {
   "cell_type": "code",
   "execution_count": null,
   "id": "7ac89e39",
   "metadata": {},
   "outputs": [],
   "source": [
    "### Filter Round 2:\n",
    "#### choosing only houses with grade 9 and higher and keep the filter on sqft_living >= 890"
   ]
  },
  {
   "cell_type": "code",
   "execution_count": 135,
   "id": "532cbf42",
   "metadata": {},
   "outputs": [],
   "source": [
    "data_filter=results10.copy()\n",
    "\n",
    "#data_filter_2=data_filter.copy()\n",
    "indexNames= data_filter.index[data_filter['grade'] <9].tolist()\n",
    "data_filter=data_filter.drop(indexNames)\n",
    "\n",
    "indexNames= data_filter.index[data_filter['sqft_living'] <890].tolist()\n",
    "data_filter=data_filter.drop(indexNames)\n",
    "\n",
    "#group_data=data.groupby(['Zipcode'], sort=False)['Price'].max()\n",
    "#Zipcode_list=(goup_data[goup_data<650000])\n",
    "\n",
    "#indexNames_3= data_filter_2.index[data_filter_2['Zipcode'].isin(Zipcode_list)]].tolist()"
   ]
  },
  {
   "cell_type": "code",
   "execution_count": 136,
   "id": "adbb853e",
   "metadata": {},
   "outputs": [
    {
     "data": {
      "text/plain": [
       "1128"
      ]
     },
     "execution_count": 136,
     "metadata": {},
     "output_type": "execute_result"
    }
   ],
   "source": [
    "dataUnder650k=[]\n",
    "for i in range (0, len(data_filter['price'])):\n",
    "    if data_filter['price'].iloc[i]<= 650000:\n",
    "        dataUnder650k.append(data_filter['price'].iloc[i])\n",
    "    else:\n",
    "        continue\n",
    "len(dataUnder650k)\n",
    "#only 1128 houses left, which prices are below 650000$"
   ]
  },
  {
   "cell_type": "code",
   "execution_count": 137,
   "id": "b78cc942",
   "metadata": {},
   "outputs": [
    {
     "data": {
      "text/plain": [
       "3121"
      ]
     },
     "execution_count": 137,
     "metadata": {},
     "output_type": "execute_result"
    }
   ],
   "source": [
    "dataHigher650k=[]\n",
    "for i in range (0, len(data_filter['price'])):\n",
    "    if data_filter['price'].iloc[i]> 650000:\n",
    "        dataHigher650k.append(data_filter['price'].iloc[i])\n",
    "    else:\n",
    "        continue\n",
    "len(dataHigher650k)\n",
    "#3121 houses left, having prices above 650000$"
   ]
  },
  {
   "cell_type": "code",
   "execution_count": 138,
   "id": "24734b50",
   "metadata": {},
   "outputs": [
    {
     "data": {
      "text/plain": [
       "0.3614226209548222"
      ]
     },
     "execution_count": 138,
     "metadata": {},
     "output_type": "execute_result"
    }
   ],
   "source": [
    "# compare ration of (filtered data < 650k$)/ (total filtered data > 650k$)\n",
    "len(dataUnder650k)/len(dataHigher650k)\n"
   ]
  },
  {
   "cell_type": "code",
   "execution_count": 139,
   "id": "9069cb23",
   "metadata": {},
   "outputs": [
    {
     "data": {
      "text/plain": [
       "0.5996157540826129"
      ]
     },
     "execution_count": 139,
     "metadata": {},
     "output_type": "execute_result"
    }
   ],
   "source": [
    "#ratio filtered Higher 650k/ unfiltered Higher 650k\n",
    "len(dataHigher650k)/len(dataUnfilteredHigher650k)"
   ]
  },
  {
   "cell_type": "code",
   "execution_count": 141,
   "id": "2f9383af",
   "metadata": {},
   "outputs": [
    {
     "name": "stdout",
     "output_type": "stream",
     "text": [
      "Using Linear Regression gives scores as follows, R^2: 0.7788682372855469 MAE: 167884.98761206187 MSE: 264356.60523597564\n"
     ]
    }
   ],
   "source": [
    "R2_lin, MAE_lin, MSE_lin =regression_results(data_filter, 'price', LinearRegression())\n",
    "print('Using Linear Regression gives scores as follows, R^2:' ,R2_lin,'MAE:', MAE_lin, 'MSE:',MSE_lin)\n",
    "#the model gives results similar to filter round 1. "
   ]
  },
  {
   "cell_type": "code",
   "execution_count": 131,
   "id": "991f4acc",
   "metadata": {},
   "outputs": [
    {
     "data": {
      "image/png": "[encoded data removed]",
      "text/plain": [
       "<Figure size 432x288 with 1 Axes>"
      ]
     },
     "metadata": {
      "needs_background": "light"
     },
     "output_type": "display_data"
    }
   ],
   "source": [
    "pred, true =predictions(data_filter, 'price', LinearRegression())\n",
    "\n",
    "fig= sns.regplot(true, pred)\n",
    "plt.xlabel(\"true price [$]\")\n",
    "plt.ylabel(\"predicted price [$]\")\n",
    "plt.title(\"true values against predictions\")\n",
    "plt.show(fig)"
   ]
  },
  {
   "cell_type": "code",
   "execution_count": null,
   "id": "16dcf4ae",
   "metadata": {},
   "outputs": [],
   "source": [
    ".. end"
   ]
  }
 ],
 "metadata": {
  "kernelspec": {
   "display_name": "Python 3",
   "language": "python",
   "name": "python3"
  },
  "language_info": {
   "codemirror_mode": {
    "name": "ipython",
    "version": 3
   },
   "file_extension": ".py",
   "mimetype": "text/x-python",
   "name": "python",
   "nbconvert_exporter": "python",
   "pygments_lexer": "ipython3",
   "version": "3.8.8"
  }
 },
 "nbformat": 4,
 "nbformat_minor": 5
}
